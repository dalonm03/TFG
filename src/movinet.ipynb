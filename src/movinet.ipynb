{
 "cells": [
  {
   "cell_type": "code",
   "execution_count": null,
   "metadata": {},
   "outputs": [],
   "source": [
    "import tensorflow as tf\n",
    "\n",
    "from official.projects.movinet.modeling import movinet\n",
    "from official.projects.movinet.modeling import movinet_model\n",
    "\n",
    "model_id = 'a0'\n",
    "use_positional_encoding = model_id in {'a3', 'a4', 'a5'}\n",
    "\n",
    "# Create backbone and model.\n",
    "backbone = movinet.Movinet(\n",
    "    model_id=model_id,\n",
    "    causal=True,\n",
    "    conv_type='2plus1d',\n",
    "    se_type='2plus3d',\n",
    "    activation='hard_swish',\n",
    "    gating_activation='hard_sigmoid',\n",
    "    use_positional_encoding=use_positional_encoding,\n",
    "    use_external_states=True,\n",
    ")\n",
    "\n",
    "model = movinet_model.MovinetClassifier(\n",
    "    backbone,\n",
    "    num_classes=600,\n",
    "    output_states=True)\n",
    "\n",
    "# Create your example input here.\n",
    "# Refer to the paper for recommended input shapes.\n",
    "inputs = tf.ones([1, 8, 172, 172, 3])\n",
    "\n",
    "# [Optional] Build the model and load a pretrained checkpoint.\n",
    "model.build(inputs.shape)\n",
    "\n",
    "checkpoint_dir = '/path/to/checkpoint'\n",
    "checkpoint_path = tf.train.latest_checkpoint(checkpoint_dir)\n",
    "checkpoint = tf.train.Checkpoint(model=model)\n",
    "status = checkpoint.restore(checkpoint_path)\n",
    "status.assert_existing_objects_matched()\n",
    "\n",
    "# Split the video into individual frames.\n",
    "# Note: we can also split into larger clips as well (e.g., 8-frame clips).\n",
    "# Running on larger clips will slightly reduce latency overhead, but\n",
    "# will consume more memory.\n",
    "frames = tf.split(inputs, inputs.shape[1], axis=1)\n",
    "\n",
    "# Initialize the dict of states. All state tensors are initially zeros.\n",
    "init_states = model.init_states(tf.shape(inputs))\n",
    "\n",
    "# Run the model prediction by looping over each frame.\n",
    "states = init_states\n",
    "predictions = []\n",
    "for frame in frames:\n",
    "  output, states = model({**states, 'image': frame})\n",
    "  predictions.append(output)\n",
    "\n",
    "# The video classification will simply be the last output of the model.\n",
    "final_prediction = tf.argmax(predictions[-1], -1)\n",
    "\n",
    "# Alternatively, we can run the network on the entire input video.\n",
    "# The output should be effectively the same\n",
    "# (but it may differ a small amount due to floating point errors).\n",
    "non_streaming_output, _ = model({**init_states, 'image': inputs})\n",
    "non_streaming_prediction = tf.argmax(non_streaming_output, -1)"
   ]
  }
 ],
 "metadata": {
  "interpreter": {
   "hash": "52d86f036cf349489a6d83082864c77bf0ad9b0b355d4c77898c024ca2886e2a"
  },
  "kernelspec": {
   "display_name": "Python 3.9.7 64-bit",
   "language": "python",
   "name": "python3"
  },
  "language_info": {
   "codemirror_mode": {
    "name": "ipython",
    "version": 3
   },
   "file_extension": ".py",
   "mimetype": "text/x-python",
   "name": "python",
   "nbconvert_exporter": "python",
   "pygments_lexer": "ipython3",
   "version": "3.8.12"
  },
  "orig_nbformat": 4
 },
 "nbformat": 4,
 "nbformat_minor": 2
}
