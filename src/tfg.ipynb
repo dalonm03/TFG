{
 "cells": [
  {
   "cell_type": "code",
   "execution_count": 1,
   "metadata": {},
   "outputs": [
    {
     "name": "stdout",
     "output_type": "stream",
     "text": [
      "tf: 2.6.1\n",
      "cv: 4.5.4\n",
      "snt: 2.0.0\n"
     ]
    }
   ],
   "source": [
    "import tensorflow as tf\n",
    "import sonnet as snt\n",
    "import cv2 as cv\n",
    "\n",
    "print('tf: '+tf.__version__)\n",
    "print('cv: '+cv.__version__)\n",
    "print('snt: '+snt.__version__)"
   ]
  },
  {
   "cell_type": "code",
   "execution_count": null,
   "metadata": {},
   "outputs": [],
   "source": [
    "actions = os.listdir('../hmdb51_org')\n",
    "\n",
    "for video_name in os.listdir('../hmdb51_org/fall_floor'):\n",
    "   # try:\n",
    "        cap=cv.VideoCapture('../hmdb51_org/fall_floor/'+video_name)\n",
    "        while cap.isOpened():\n",
    "            ret, frame=cap.read()\n",
    "            if not ret:\n",
    "                print(\"Can't receive frame (stream end?). Exiting...\")\n",
    "                break\n",
    "            cv.imshow('frame',frame)\n",
    "            if cv.waitKey(1)==ord('q'):\n",
    "                break\n",
    "\n",
    "        cap.release()\n",
    "        cv.destroyAllWindows()\n",
    "  #  except Exception as e:\n",
    "   #     print(f'Failed on {video_name}')"
   ]
  },
  {
   "cell_type": "markdown",
   "metadata": {},
   "source": [
    "We get the first train and test videos."
   ]
  },
  {
   "cell_type": "code",
   "execution_count": 3,
   "metadata": {},
   "outputs": [],
   "source": [
    "import re\n",
    "\n",
    "splits_files= os.listdir('../test_train_splits')\n",
    "train_split1=[]\n",
    "test_split1=[]\n",
    "r = re.compile('1\\.txt$')\n",
    "first_split_files=list(filter(r.search,splits_files))\n",
    "\n",
    "for file in first_split_files:\n",
    "    f=open('../test_train_splits/'+file,'r')\n",
    "    for line in f:\n",
    "        if(re.search('1 $',line)):\n",
    "            train_split1.append(line.split(' ',1)[0])\n",
    "        elif(re.search('2 $',line)):\n",
    "            test_split1.append(line)\n",
    "\n",
    "    f.close()\n"
   ]
  }
 ],
 "metadata": {
  "interpreter": {
   "hash": "52d86f036cf349489a6d83082864c77bf0ad9b0b355d4c77898c024ca2886e2a"
  },
  "kernelspec": {
   "display_name": "Python 3.9.7 64-bit",
   "language": "python",
   "name": "python3"
  },
  "language_info": {
   "codemirror_mode": {
    "name": "ipython",
    "version": 3
   },
   "file_extension": ".py",
   "mimetype": "text/x-python",
   "name": "python",
   "nbconvert_exporter": "python",
   "pygments_lexer": "ipython3",
   "version": "3.9.7"
  },
  "orig_nbformat": 4
 },
 "nbformat": 4,
 "nbformat_minor": 2
}
