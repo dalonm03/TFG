{
 "cells": [
  {
   "cell_type": "code",
   "execution_count": 41,
   "metadata": {},
   "outputs": [
    {
     "name": "stdout",
     "output_type": "stream",
     "text": [
      "tf: 2.9.1\n",
      "cv: 4.0.1\n"
     ]
    }
   ],
   "source": [
    "import tensorflow as tf\n",
    "import cv2 as cv\n",
    "import numpy as np\n",
    "import imageio\n",
    "import re\n",
    "import seedir as sd\n",
    "import datetime\n",
    "from functools import partial\n",
    "\n",
    "print('tf: '+tf.__version__)\n",
    "print('cv: '+cv.__version__)"
   ]
  },
  {
   "cell_type": "code",
   "execution_count": 11,
   "metadata": {},
   "outputs": [
    {
     "name": "stdout",
     "output_type": "stream",
     "text": [
      "Num GPUs Available:  1\n"
     ]
    }
   ],
   "source": [
    "print(\"Num GPUs Available: \", len(tf.config.list_physical_devices('GPU')))"
   ]
  },
  {
   "cell_type": "markdown",
   "metadata": {},
   "source": [
    "FUNCTIONS TO MANIPULATE AND PLAY VIDEOS"
   ]
  },
  {
   "cell_type": "code",
   "execution_count": 12,
   "metadata": {},
   "outputs": [],
   "source": [
    "#Function that plays the videos within a directory\n",
    "def play_videos(directory):\n",
    "    \n",
    "    for video_name in os.listdir(directory):\n",
    "    # try:\n",
    "            cap=cv.VideoCapture(directory+video_name)\n",
    "            while cap.isOpened():\n",
    "                ret, frame=cap.read()\n",
    "                if not ret:\n",
    "                    print(\"Can't receive frame (stream end?). Exiting...\")\n",
    "                    break\n",
    "                cv.imshow('frame',frame)\n",
    "                if cv.waitKey(1)==ord('q'):\n",
    "                    break\n",
    "\n",
    "            cap.release()\n",
    "            cv.destroyAllWindows()\n",
    "#play_videos('../hmdb51_org/fall_floor/')"
   ]
  },
  {
   "cell_type": "markdown",
   "metadata": {},
   "source": [
    "Define hyperparameters"
   ]
  },
  {
   "cell_type": "code",
   "execution_count": 83,
   "metadata": {},
   "outputs": [],
   "source": [
    "epochs=10\n",
    "frame_size=240\n",
    "batch_size=5\n",
    "frames_per_video=10"
   ]
  },
  {
   "cell_type": "code",
   "execution_count": 14,
   "metadata": {},
   "outputs": [],
   "source": [
    "#Function that crops the frames\n",
    "def crop_center_square(frame):\n",
    "  y, x = frame.shape[0:2]\n",
    "  min_dim = min(y, x)\n",
    "  start_x = (x // 2) - (min_dim // 2)\n",
    "  start_y = (y // 2) - (min_dim // 2)\n",
    "  return frame[start_y:start_y+min_dim,start_x:start_x+min_dim]\n",
    "\n",
    "#Function that loads video\n",
    "def load_video(path, max_frames=0, resize=(frame_size, frame_size)):\n",
    "  cap = cv.VideoCapture(path)\n",
    "  frames = []\n",
    "  try:\n",
    "    while True:\n",
    "      ret, frame = cap.read()\n",
    "      if not ret:\n",
    "        break\n",
    "      frame = crop_center_square(frame)\n",
    "      frame = cv.resize(frame, resize)\n",
    "      frame = frame[:, :, [2, 1, 0]]\n",
    "      frames.append(frame)\n",
    "\n",
    "      if len(frames) == max_frames:\n",
    "        break\n",
    "  finally:\n",
    "    cap.release()\n",
    "  return np.array(frames)\n",
    "\n",
    "#Makes a gif out of frames\n",
    "def to_gif(images):\n",
    "  converted_images = np.clip(images, 0, 255).astype(np.uint8)\n",
    "  imageio.mimsave('./animation.gif', converted_images, fps=25)\n",
    "\n",
    "#sample_video = load_video('../hmdb51_org/fall_floor/Catch_Me_If_You_Can_fall_floor_f_cm_np1_fr_med_0.avi')[:100]\n",
    "#to_gif(sample_video)"
   ]
  },
  {
   "cell_type": "markdown",
   "metadata": {},
   "source": [
    "We get the labels of the HMDB51 dataset"
   ]
  },
  {
   "cell_type": "code",
   "execution_count": 15,
   "metadata": {},
   "outputs": [],
   "source": [
    "labels = os.listdir('../hmdb51_org')"
   ]
  },
  {
   "cell_type": "markdown",
   "metadata": {},
   "source": [
    "Function for getting the name and lable of the different train and test split videos."
   ]
  },
  {
   "cell_type": "code",
   "execution_count": 16,
   "metadata": {},
   "outputs": [
    {
     "name": "stdout",
     "output_type": "stream",
     "text": [
      "\n"
     ]
    }
   ],
   "source": [
    "def get_split(split_number):\n",
    "    splits_files= os.listdir('../test_train_splits')\n",
    "    train_split=[]\n",
    "    test_split=[]\n",
    "    r = re.compile(str(split_number)+'\\.txt$')\n",
    "    split_files=list(filter(r.search,splits_files))\n",
    "\n",
    "    for file in split_files:\n",
    "        \n",
    "        f=open('../test_train_splits/'+file,'r')\n",
    "        for line in f:\n",
    "            if(re.search('1 $',line)):\n",
    "                train_split.append((line.split(' ',1)[0],file.split('_test',1)[0]))\n",
    "            elif(re.search('2 $',line)):\n",
    "                test_split.append((line.split(' ',1)[0],file.split('_test',1)[0]))\n",
    "\n",
    "        f.close()\n",
    "    return (train_split,test_split)\n",
    "train_split1,test_split1=get_split(1)\n",
    "print()"
   ]
  },
  {
   "cell_type": "markdown",
   "metadata": {},
   "source": [
    "Instantiate the Xception architecture and freeze the model"
   ]
  },
  {
   "cell_type": "code",
   "execution_count": 17,
   "metadata": {},
   "outputs": [],
   "source": [
    "pretrained_model = tf.keras.applications.Xception(\n",
    "    include_top=False,\n",
    "    weights='imagenet',\n",
    "    input_shape=(frame_size,frame_size,3),\n",
    "    classifier_activation='softmax'\n",
    ")\n",
    "\n",
    "pretrained_model.trainable=False"
   ]
  },
  {
   "cell_type": "markdown",
   "metadata": {},
   "source": [
    "We create the model that is going to sit on top of the pretrained model"
   ]
  },
  {
   "cell_type": "code",
   "execution_count": 18,
   "metadata": {},
   "outputs": [
    {
     "name": "stdout",
     "output_type": "stream",
     "text": [
      "Model: \"model_1\"\n",
      "_________________________________________________________________\n",
      " Layer (type)                Output Shape              Param #   \n",
      "=================================================================\n",
      " input_4 (InputLayer)        [(None, 240, 240, 3)]     0         \n",
      "                                                                 \n",
      " sequential_1 (Sequential)   (None, 240, 240, 3)       0         \n",
      "                                                                 \n",
      " rescaling_1 (Rescaling)     (None, 240, 240, 3)       0         \n",
      "                                                                 \n",
      " xception (Functional)       (None, 8, 8, 2048)        20861480  \n",
      "                                                                 \n",
      " global_average_pooling2d_1   (None, 2048)             0         \n",
      " (GlobalAveragePooling2D)                                        \n",
      "                                                                 \n",
      " dropout_1 (Dropout)         (None, 2048)              0         \n",
      "                                                                 \n",
      " dense_1 (Dense)             (None, 51)                104499    \n",
      "                                                                 \n",
      "=================================================================\n",
      "Total params: 20,965,979\n",
      "Trainable params: 104,499\n",
      "Non-trainable params: 20,861,480\n",
      "_________________________________________________________________\n"
     ]
    }
   ],
   "source": [
    "data_augmentation = tf.keras.Sequential(\n",
    "    [tf.keras.layers.RandomFlip(\"horizontal\"), tf.keras.layers.RandomRotation(0.1),]\n",
    ")\n",
    "normalization = tf.keras.layers.Rescaling(scale=1/127.5, offset=-1)\n",
    "inputs = tf.keras.Input(shape=(frame_size,frame_size,3))\n",
    "\n",
    "preprocess = data_augmentation(inputs)\n",
    "preprocess = normalization(preprocess)\n",
    "\n",
    "x = pretrained_model(preprocess,training=False)\n",
    "x = tf.keras.layers.GlobalAveragePooling2D()(x)\n",
    "x = tf.keras.layers.Dropout(.2)(x)\n",
    "\n",
    "outputs = tf.keras.layers.Dense(len(labels),activation='softmax')(x)\n",
    "model = tf.keras.Model(inputs,outputs)\n",
    "\n",
    "model.summary()"
   ]
  },
  {
   "cell_type": "code",
   "execution_count": 11,
   "metadata": {},
   "outputs": [
    {
     "data": {
      "image/png": "[encoded data removed]",
      "text/plain": [
       "<IPython.core.display.Image object>"
      ]
     },
     "execution_count": 11,
     "metadata": {},
     "output_type": "execute_result"
    }
   ],
   "source": [
    "tf.keras.utils.plot_model(model, \"modelo_tfg.png\", show_shapes=True)"
   ]
  },
  {
   "cell_type": "markdown",
   "metadata": {},
   "source": [
    "Functions that converts numpys to TFRecords"
   ]
  },
  {
   "cell_type": "code",
   "execution_count": 20,
   "metadata": {},
   "outputs": [],
   "source": [
    "\n",
    "def _int64_feature(value):\n",
    "  return tf.train.Feature(int64_list=tf.train.Int64List(value=[value]))\n",
    "\n",
    "\n",
    "def _bytes_feature(value):\n",
    "  return tf.train.Feature(bytes_list=tf.train.BytesList(value=[value]))\n",
    "\n",
    "def save_numpy_to_tfrecords(data, label, destination_path, name, fragmentSize,\n",
    "                            current_batch_number, total_batch_number,\n",
    "                            color_depth):\n",
    "  \"\"\"Converts an entire dataset into x tfrecords where x=videos/fragmentSize.\n",
    "\n",
    "  Args:\n",
    "    data: ndarray(uint32) of shape (v,i,h,w,c) with v=number of videos,\n",
    "    i=number of images, c=number of image channels, h=image height, w=image\n",
    "    width\n",
    "    name: filename; data samples type (train|valid|test)\n",
    "    fragmentSize: specifies how many videos are stored in one tfrecords file\n",
    "    current_batch_number: indicates the current batch index (function call within loop)\n",
    "    total_batch_number: indicates the total number of batches\n",
    "  \"\"\"\n",
    "\n",
    "  num_videos = data.shape[0]\n",
    "  num_images = data.shape[1]\n",
    "  num_channels = data.shape[4]\n",
    "  height = data.shape[2]\n",
    "  width = data.shape[3]\n",
    "\n",
    "  writer = None\n",
    "  feature = {}\n",
    "\n",
    "  for video_count in range((num_videos)):\n",
    "\n",
    "    if video_count % fragmentSize == 0:\n",
    "      if writer is not None:\n",
    "        writer.close()\n",
    "      filename = os.path.join(destination_path,\n",
    "                              name + str(current_batch_number) + '_of_' + str(\n",
    "                                total_batch_number) + '.tfrecord')\n",
    "      print('Writing', filename)\n",
    "      writer = tf.io.TFRecordWriter(filename)\n",
    "\n",
    "    for image_count in range(num_images):\n",
    "      path = 'blob' + '/' + str(image_count)\n",
    "      image = data[video_count, image_count, :, :, :]\n",
    "      image = image.astype(color_depth)\n",
    "      image_raw = image.tobytes()\n",
    "\n",
    "      feature[path] = _bytes_feature(image_raw)\n",
    "      \n",
    "    feature['label'] = _int64_feature(label)\n",
    "    \n",
    "    example = tf.train.Example(features=tf.train.Features(feature=feature))\n",
    "    writer.write(example.SerializeToString())\n",
    "  if writer is not None:\n",
    "    writer.close()"
   ]
  },
  {
   "cell_type": "code",
   "execution_count": 19,
   "metadata": {},
   "outputs": [],
   "source": [
    "def _float_feature(value):\n",
    "  return tf.train.Feature(float_list=tf.train.FloatList(value=value))\n",
    "\n",
    "def save_feature_to_tfrecord(video_features,labels,destination_path,name):\n",
    "  num_videos = video_features.shape[0]\n",
    "  num_images = video_features.shape[1]\n",
    "  num_features = video_features.shape[2]\n",
    "\n",
    "  filename = os.path.join(destination_path, name + '.tfrecord')\n",
    "  writer = tf.io.TFRecordWriter(filename)\n",
    "  print('Writing', filename)\n",
    "  feature = {}\n",
    "\n",
    "  for video_count in range(num_videos):\n",
    "    for image_count in range(num_images):\n",
    "      path=\"feature/\"+str(image_count)\n",
    "      frame_feature=video_features[video_count,image_count,:]\n",
    "\n",
    "      feature[path] = _float_feature(frame_feature)\n",
    "\n",
    "    feature['label'] = _int64_feature(labels[video_count])\n",
    "\n",
    "    example = tf.train.Example(features=tf.train.Features(feature=feature))\n",
    "    writer.write(example.SerializeToString())\n",
    "    \n",
    "   \n",
    "    "
   ]
  },
  {
   "cell_type": "markdown",
   "metadata": {},
   "source": [
    "Function that converts the videos from a split into TFRecords"
   ]
  },
  {
   "cell_type": "code",
   "execution_count": 21,
   "metadata": {},
   "outputs": [],
   "source": [
    "\n",
    "def split_to_tfrecords(split_data,split_number,split_type,n_videos_in_record):\n",
    "    \n",
    "    n_of_records=int(len(split_data)/n_videos_in_record)\n",
    "    hmdb51_directory='../hmdb51_org/'\n",
    "\n",
    "    i=0\n",
    "    for batch in range(n_of_records):\n",
    "\n",
    "        data=[]\n",
    "        current_batch=split_data[i:i+n_videos_in_record]\n",
    "        label_of_batch=current_batch[0][1]\n",
    "    \n",
    "        for name_and_label in current_batch:\n",
    "            np_video=load_video(hmdb51_directory+name_and_label[1]+'/'+name_and_label[0],frames_per_video)\n",
    "            data.append(np_video)\n",
    "        \n",
    "        path='../tfRecords/split'+str(split_number)+'/'+label_of_batch\n",
    "        if not os.path.exists(path):\n",
    "            os.makedirs(path)\n",
    "        save_numpy_to_tfrecords(np.array(data), batch+1, path, split_type+'Batch_', n_videos_in_record,batch+1, total_batch_number=n_of_records, color_depth=\"uint8\")\n",
    "        i=i+n_videos_in_record\n",
    "\n",
    "#split_to_tfrecords(train_split1,1,'train',70)\n",
    "#split_to_tfrecords(test_split1,1,'test',30)\n"
   ]
  },
  {
   "cell_type": "markdown",
   "metadata": {},
   "source": [
    "Function to load a video from a serialized example of a TFRecordDataset"
   ]
  },
  {
   "cell_type": "code",
   "execution_count": 22,
   "metadata": {},
   "outputs": [],
   "source": [
    "\n",
    "def load_video_from_tfrecord(serialized_example):\n",
    "    \n",
    "    video = []\n",
    "    for image_count in range(frames_per_video):\n",
    "        path = 'blob' + '/' + str(image_count)\n",
    "        feature_dict = {\n",
    "            path: tf.io.FixedLenFeature([], tf.string),\n",
    "            'label':tf.io.FixedLenFeature([],tf.int64)\n",
    "        }\n",
    "        \n",
    "        features = tf.io.parse_example(serialized_example,features=feature_dict)\n",
    "\n",
    "        frame_raw = features[path]\n",
    "        label=features['label']\n",
    "\n",
    "        frame = tf.io.decode_raw(frame_raw,out_type=tf.uint8)\n",
    "        frame = tf.reshape(frame, shape=[frame_size, frame_size, 3])\n",
    "\n",
    "        video.append(frame)\n",
    "    return (video,label)\n",
    "\n",
    "def load_features_from_tfrecord(serialized_example):\n",
    "\n",
    "    video_features = []\n",
    "    for image_count in range(frames_per_video):\n",
    "        path = 'feature' + '/' + str(image_count)\n",
    "        feature_dict = {\n",
    "            path: tf.io.FixedLenFeature([2048], tf.float32),\n",
    "            'label':tf.io.FixedLenFeature([],tf.int64)\n",
    "        }\n",
    "\n",
    "        features = tf.io.parse_example(serialized_example,features=feature_dict)\n",
    "        \n",
    "        video_features.append(features[path])\n",
    "        label=features['label']\n",
    "    return (video_features,label)\n",
    "\n",
    "# filename=['../tfRecords/split1/brush_hair/trainBatch_1_of_51.tfrecord']\n",
    "\n",
    "# raw_tfrecord=tf.data.TFRecordDataset(filename)\n",
    "\n",
    "# x=raw_tfrecord.take(1)\n",
    "# video=load_video_from_tfrecord(next(iter(x)))\n",
    "# to_gif(video[0])\n"
   ]
  },
  {
   "cell_type": "markdown",
   "metadata": {},
   "source": [
    "Function to load dataset"
   ]
  },
  {
   "cell_type": "code",
   "execution_count": 23,
   "metadata": {},
   "outputs": [],
   "source": [
    "def load_dataset(filenames):\n",
    "    ignore_order = tf.data.Options()\n",
    "    ignore_order.deterministic = False\n",
    "    dataset=tf.data.TFRecordDataset(filenames)\n",
    "    dataset=dataset.with_options(ignore_order)\n",
    "    dataset=dataset.map(partial(load_video_from_tfrecord))\n",
    "    return dataset\n",
    "\n",
    "def load_features(filenames):\n",
    "    ignore_order = tf.data.Options()\n",
    "    ignore_order.deterministic = True\n",
    "    dataset=tf.data.TFRecordDataset(filenames)\n",
    "    dataset=dataset.with_options(ignore_order)\n",
    "    dataset=dataset.map(partial(load_features_from_tfrecord))\n",
    "    return dataset\n",
    "\n",
    "def get_dataset(filenames,batch_size=0):\n",
    "    dataset = load_dataset(filenames)\n",
    "    if batch_size>0:\n",
    "        dataset = dataset.batch(batch_size)\n",
    "    return dataset\n",
    "\n",
    "def get_features(filenames,batch_size=0):\n",
    "    dataset = load_features(filenames)\n",
    "    if batch_size>0:\n",
    "        dataset = dataset.batch(batch_size)\n",
    "    return dataset\n"
   ]
  },
  {
   "cell_type": "markdown",
   "metadata": {},
   "source": [
    "We start the training and testing of our first split."
   ]
  },
  {
   "cell_type": "code",
   "execution_count": 24,
   "metadata": {},
   "outputs": [],
   "source": [
    "train_filenames = tf.io.gfile.glob('../tfRecords/split1/*/train*.tfrecord')\n",
    "test_filenames = tf.io.gfile.glob('../tfRecords/split1/*/test*.tfrecord')\n",
    "\n",
    "train_dataset = get_dataset(train_filenames)\n",
    "test_dataset = get_dataset(test_filenames)\n",
    "#print(train_dataset)\n",
    "# x=train_dataset.take(5)\n",
    "# it=iter(x)\n",
    "# aux=next(it)\n",
    "# video_and_label=next(it)\n",
    "# video=video_and_label[0][0]\n",
    "# label=video_and_label[1]\n",
    "# to_gif(video)"
   ]
  },
  {
   "cell_type": "code",
   "execution_count": 86,
   "metadata": {},
   "outputs": [],
   "source": [
    "initial_learning_rate = 0.000001\n",
    "lr_schedule = tf.keras.optimizers.schedules.ExponentialDecay(\n",
    "    initial_learning_rate, decay_steps=100000, decay_rate=0.96, staircase=True\n",
    ")\n",
    "\n",
    "checkpoint_cb = tf.keras.callbacks.ModelCheckpoint(\n",
    "    \"51activity_model.h5\", save_best_only=True, monitor='accuracy'\n",
    ")\n",
    "\n",
    "early_stopping_cb = tf.keras.callbacks.EarlyStopping(\n",
    "    patience=10, restore_best_weights=True, monitor='accuracy'\n",
    ")\n",
    "\n",
    "model.compile(\n",
    "    optimizer=tf.keras.optimizers.Adam(learning_rate=lr_schedule),\n",
    "    loss=\"sparse_categorical_crossentropy\",\n",
    "    metrics=[\"accuracy\"]\n",
    ")"
   ]
  },
  {
   "cell_type": "code",
   "execution_count": null,
   "metadata": {},
   "outputs": [],
   "source": [
    "#model.fit(train_dataset, epochs=10, callbacks=[checkpoint_cb,early_stopping_cb])"
   ]
  },
  {
   "cell_type": "code",
   "execution_count": null,
   "metadata": {},
   "outputs": [
    {
     "name": "stdout",
     "output_type": "stream",
     "text": [
      "📁 tfRecords/\n",
      "├─📁 split1/\n",
      "│ ├─📁 brush_hair/\n",
      "│ │ ├─📄 testBatch_1_of_51.tfrecord\n",
      "│ │ └─📄 trainBatch_1_of_51.tfrecord\n",
      "│ ├─📁 cartwheel/\n",
      "│ │ ├─📄 testBatch_2_of_51.tfrecord\n",
      "│ │ └─📄 trainBatch_2_of_51.tfrecord\n",
      "│ ├─📁 catch/\n",
      "│ │ ├─📄 testBatch_3_of_51.tfrecord\n",
      "│ │ └─📄 trainBatch_3_of_51.tfrecord\n",
      "│ └─📄 48 folder(s), 0 file(s)\n",
      "├─📁 split2/\n",
      "└─📁 split3/\n"
     ]
    }
   ],
   "source": [
    "sd.seedir('../tfRecords', style='emoji', itemlimit=3, beyond='content')"
   ]
  },
  {
   "cell_type": "markdown",
   "metadata": {},
   "source": [
    "CNN+RNN"
   ]
  },
  {
   "cell_type": "markdown",
   "metadata": {},
   "source": [
    "We define the convolutional base that we are going to use for feature extraction."
   ]
  },
  {
   "cell_type": "code",
   "execution_count": 26,
   "metadata": {},
   "outputs": [],
   "source": [
    "def new_feature_extractor():\n",
    "    feature_extractor = tf.keras.applications.Xception(\n",
    "        weights='imagenet',\n",
    "        pooling='max',\n",
    "        include_top=False,\n",
    "        input_shape=(frame_size,frame_size,3)\n",
    "    )\n",
    "    inputs = tf.keras.Input((frame_size,frame_size,3))\n",
    "    preprocess = tf.keras.applications.xception.preprocess_input\n",
    "\n",
    "    preprocessed = preprocess(inputs)\n",
    "\n",
    "    out = feature_extractor(preprocessed)\n",
    "    return tf.keras.Model(inputs,out, name=\"extractor_carecteristicas\")\n",
    "feature_extractor = new_feature_extractor()"
   ]
  },
  {
   "cell_type": "code",
   "execution_count": null,
   "metadata": {},
   "outputs": [],
   "source": [
    "def extract_features(dataset,dst_type):\n",
    "    if dst_type=='train':\n",
    "        num_videos=3570 #sum(1 for _ in dataset) 3570 y 1530\n",
    "        \n",
    "    else:\n",
    "        num_videos=1530\n",
    "        \n",
    "    print(num_videos)\n",
    "    frame_features = np.zeros(\n",
    "        shape=(num_videos, frames_per_video, 2048), dtype=\"float32\"\n",
    "    )\n",
    "    labels=np.zeros(shape=(num_videos,),dtype=\"int8\")\n",
    "    for index, video_label in enumerate(dataset):\n",
    "        #print(video_label)\n",
    "\n",
    "        frames = video_label[0]\n",
    "        label = video_label[1]\n",
    "        labels[index]=label.numpy()\n",
    "\n",
    "        frames=frames[None, ...]\n",
    "        aux_features = np.zeros(\n",
    "            shape=(1, frames_per_video, 2048), dtype='float32'\n",
    "        )\n",
    "\n",
    "        for i, batch in enumerate(frames):\n",
    "            video_length = batch.shape[0]\n",
    "            for j in range(video_length):\n",
    "                aux_features[i, j, :] = feature_extractor.predict(batch[None,j,:], verbose=0)\n",
    "\n",
    "        \n",
    "        frame_features[index,] = aux_features.squeeze()\n",
    "        print(index)\n",
    "    return frame_features,labels\n",
    "\n",
    "#features=extract_features(train_dataset,'train')\n",
    "features_labels=extract_features(test_dataset,'test')\n",
    "#print(features)"
   ]
  },
  {
   "cell_type": "code",
   "execution_count": 84,
   "metadata": {},
   "outputs": [],
   "source": [
    "#save_feature_to_tfrecord(features[0],features[1],'../features/split1','train')\n",
    "#save_feature_to_tfrecord(features_labels[0],features_labels[1],'../features/split1','test')\n",
    "train_features=get_features('../features/split1/train.tfrecord',batch_size)\n",
    "test_features=get_features('../features/split1/test.tfrecord')\n",
    "# for i,feature_label in enumerate(test_features):\n",
    "#     print(i)\n",
    "#sum(1 for _ in test_dataset)\n"
   ]
  },
  {
   "cell_type": "code",
   "execution_count": 87,
   "metadata": {},
   "outputs": [],
   "source": [
    "def new_gru_model(n_labels):\n",
    "    frame_features_input = tf.keras.Input((frames_per_video, 2048))\n",
    "\n",
    "    x = tf.keras.layers.GRU(16, return_sequences=True)(frame_features_input)\n",
    "    x = tf.keras.layers.GRU(8)(x)\n",
    "    x = tf.keras.layers.Dropout(0.4)(x)\n",
    "    x = tf.keras.layers.Dense(8, activation='relu')(x)\n",
    "    output = tf.keras.layers.Dense(n_labels, activation='softmax')(x)\n",
    "\n",
    "    gru_model = tf.keras.Model(frame_features_input,output)\n",
    "\n",
    "    gru_model.compile(\n",
    "        loss='sparse_categorical_crossentropy', optimizer=tf.keras.optimizers.Adam(learning_rate=lr_schedule), metrics=['accuracy']\n",
    "    )\n",
    "    return gru_model"
   ]
  },
  {
   "cell_type": "code",
   "execution_count": 76,
   "metadata": {},
   "outputs": [
    {
     "data": {
      "image/png": "[encoded data removed]",
      "text/plain": [
       "<IPython.core.display.Image object>"
      ]
     },
     "execution_count": 76,
     "metadata": {},
     "output_type": "execute_result"
    }
   ],
   "source": [
    "gru_model = new_gru_model(len(labels))\n",
    "tf.keras.utils.plot_model(gru_model, \"gru_modelo_tfg.png\", show_shapes=True)"
   ]
  },
  {
   "cell_type": "code",
   "execution_count": null,
   "metadata": {},
   "outputs": [],
   "source": [
    "def run_gru_experiment(train_data, test_data):\n",
    "\n",
    "    \n",
    "\n",
    "    log_dir = \"../logs/fit/\" + datetime.datetime.now().strftime(\"%Y%m%d-%H%M%S\")\n",
    "    tensorboard_cb = tf.keras.callbacks.TensorBoard(log_dir=log_dir, histogram_freq=1)\n",
    "\n",
    "    history = gru_model.fit(\n",
    "        train_data,\n",
    "        epochs=epochs,\n",
    "        callbacks=[checkpoint_cb,early_stopping_cb,tensorboard_cb],\n",
    "    )\n",
    "\n",
    "run_gru_experiment(train_features,test_features)"
   ]
  },
  {
   "cell_type": "code",
   "execution_count": 67,
   "metadata": {},
   "outputs": [
    {
     "name": "stdout",
     "output_type": "stream",
     "text": [
      "The tensorboard extension is already loaded. To reload it, use:\n",
      "  %reload_ext tensorboard\n"
     ]
    }
   ],
   "source": [
    "%load_ext tensorboard"
   ]
  }
 ],
 "metadata": {
  "interpreter": {
   "hash": "c78d55e21af3ee4296a87005aeb6b48cf035a833a78fc402b9be469aebeb0d7d"
  },
  "kernelspec": {
   "display_name": "Python 3.8.13 ('TFG')",
   "language": "python",
   "name": "python3"
  },
  "language_info": {
   "codemirror_mode": {
    "name": "ipython",
    "version": 3
   },
   "file_extension": ".py",
   "mimetype": "text/x-python",
   "name": "python",
   "nbconvert_exporter": "python",
   "pygments_lexer": "ipython3",
   "version": "3.8.13"
  },
  "orig_nbformat": 4
 },
 "nbformat": 4,
 "nbformat_minor": 2
}
