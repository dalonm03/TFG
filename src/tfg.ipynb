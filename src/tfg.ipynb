{
 "cells": [
  {
   "cell_type": "code",
   "execution_count": 8,
   "metadata": {},
   "outputs": [
    {
     "name": "stdout",
     "output_type": "stream",
     "text": [
      "tf: 2.9.1\n",
      "cv: 4.0.1\n"
     ]
    }
   ],
   "source": [
    "import tensorflow as tf\n",
    "import cv2 as cv\n",
    "import numpy as np\n",
    "import imageio\n",
    "import re\n",
    "import seedir as sd\n",
    "from functools import partial\n",
    "\n",
    "print('tf: '+tf.__version__)\n",
    "print('cv: '+cv.__version__)"
   ]
  },
  {
   "cell_type": "code",
   "execution_count": 9,
   "metadata": {},
   "outputs": [
    {
     "name": "stdout",
     "output_type": "stream",
     "text": [
      "Num GPUs Available:  0\n"
     ]
    }
   ],
   "source": [
    "print(\"Num GPUs Available: \", len(tf.config.list_physical_devices('GPU')))"
   ]
  },
  {
   "cell_type": "markdown",
   "metadata": {},
   "source": [
    "FUNCTIONS TO MANIPULATE AND PLAY VIDEOS"
   ]
  },
  {
   "cell_type": "code",
   "execution_count": 10,
   "metadata": {},
   "outputs": [],
   "source": [
    "#Function that plays the videos within a directory\n",
    "def play_videos(directory):\n",
    "    \n",
    "    for video_name in os.listdir(directory):\n",
    "    # try:\n",
    "            cap=cv.VideoCapture(directory+video_name)\n",
    "            while cap.isOpened():\n",
    "                ret, frame=cap.read()\n",
    "                if not ret:\n",
    "                    print(\"Can't receive frame (stream end?). Exiting...\")\n",
    "                    break\n",
    "                cv.imshow('frame',frame)\n",
    "                if cv.waitKey(1)==ord('q'):\n",
    "                    break\n",
    "\n",
    "            cap.release()\n",
    "            cv.destroyAllWindows()\n",
    "#play_videos('../hmdb51_org/fall_floor/')"
   ]
  },
  {
   "cell_type": "markdown",
   "metadata": {},
   "source": [
    "Define hyperparameters"
   ]
  },
  {
   "cell_type": "code",
   "execution_count": 11,
   "metadata": {},
   "outputs": [],
   "source": [
    "epochs=10\n",
    "frame_size=240\n",
    "batch_size=64\n",
    "frames_per_video=10"
   ]
  },
  {
   "cell_type": "code",
   "execution_count": 12,
   "metadata": {},
   "outputs": [],
   "source": [
    "#Function that crops the frames\n",
    "def crop_center_square(frame):\n",
    "  y, x = frame.shape[0:2]\n",
    "  min_dim = min(y, x)\n",
    "  start_x = (x // 2) - (min_dim // 2)\n",
    "  start_y = (y // 2) - (min_dim // 2)\n",
    "  return frame[start_y:start_y+min_dim,start_x:start_x+min_dim]\n",
    "\n",
    "#Function that loads video\n",
    "def load_video(path, max_frames=0, resize=(frame_size, frame_size)):\n",
    "  cap = cv.VideoCapture(path)\n",
    "  frames = []\n",
    "  try:\n",
    "    while True:\n",
    "      ret, frame = cap.read()\n",
    "      if not ret:\n",
    "        break\n",
    "      frame = crop_center_square(frame)\n",
    "      frame = cv.resize(frame, resize)\n",
    "      frame = frame[:, :, [2, 1, 0]]\n",
    "      frames.append(frame)\n",
    "\n",
    "      if len(frames) == max_frames:\n",
    "        break\n",
    "  finally:\n",
    "    cap.release()\n",
    "  return np.array(frames)\n",
    "\n",
    "#Makes a gif out of frames\n",
    "def to_gif(images):\n",
    "  converted_images = np.clip(images, 0, 255).astype(np.uint8)\n",
    "  imageio.mimsave('./animation.gif', converted_images, fps=25)\n",
    "\n",
    "#sample_video = load_video('../hmdb51_org/fall_floor/Catch_Me_If_You_Can_fall_floor_f_cm_np1_fr_med_0.avi')[:100]\n",
    "#to_gif(sample_video)"
   ]
  },
  {
   "cell_type": "markdown",
   "metadata": {},
   "source": [
    "We get the labels of the HMDB51 dataset"
   ]
  },
  {
   "cell_type": "code",
   "execution_count": 13,
   "metadata": {},
   "outputs": [],
   "source": [
    "labels = os.listdir('../hmdb51_org')"
   ]
  },
  {
   "cell_type": "markdown",
   "metadata": {},
   "source": [
    "Function for getting the name and lable of the different train and test split videos."
   ]
  },
  {
   "cell_type": "code",
   "execution_count": 14,
   "metadata": {},
   "outputs": [
    {
     "name": "stdout",
     "output_type": "stream",
     "text": [
      "\n"
     ]
    }
   ],
   "source": [
    "def get_split(split_number):\n",
    "    splits_files= os.listdir('../test_train_splits')\n",
    "    train_split=[]\n",
    "    test_split=[]\n",
    "    r = re.compile(str(split_number)+'\\.txt$')\n",
    "    split_files=list(filter(r.search,splits_files))\n",
    "\n",
    "    for file in split_files:\n",
    "        \n",
    "        f=open('../test_train_splits/'+file,'r')\n",
    "        for line in f:\n",
    "            if(re.search('1 $',line)):\n",
    "                train_split.append((line.split(' ',1)[0],file.split('_test',1)[0]))\n",
    "            elif(re.search('2 $',line)):\n",
    "                test_split.append((line.split(' ',1)[0],file.split('_test',1)[0]))\n",
    "\n",
    "        f.close()\n",
    "    return (train_split,test_split)\n",
    "train_split1,test_split1=get_split(1)\n",
    "print()"
   ]
  },
  {
   "cell_type": "markdown",
   "metadata": {},
   "source": [
    "Instantiate the Xception architecture and freeze the model"
   ]
  },
  {
   "cell_type": "code",
   "execution_count": 15,
   "metadata": {},
   "outputs": [],
   "source": [
    "pretrained_model = tf.keras.applications.Xception(\n",
    "    include_top=False,\n",
    "    weights='imagenet',\n",
    "    input_shape=(frame_size,frame_size,3),\n",
    "    classifier_activation='softmax'\n",
    ")\n",
    "\n",
    "pretrained_model.trainable=False"
   ]
  },
  {
   "cell_type": "markdown",
   "metadata": {},
   "source": [
    "We create the model that is going to sit on top of the pretrained model"
   ]
  },
  {
   "cell_type": "code",
   "execution_count": 16,
   "metadata": {},
   "outputs": [
    {
     "name": "stdout",
     "output_type": "stream",
     "text": [
      "Model: \"model\"\n",
      "_________________________________________________________________\n",
      " Layer (type)                Output Shape              Param #   \n",
      "=================================================================\n",
      " input_2 (InputLayer)        [(None, 240, 240, 3)]     0         \n",
      "                                                                 \n",
      " sequential (Sequential)     (None, 240, 240, 3)       0         \n",
      "                                                                 \n",
      " rescaling (Rescaling)       (None, 240, 240, 3)       0         \n",
      "                                                                 \n",
      " xception (Functional)       (None, 8, 8, 2048)        20861480  \n",
      "                                                                 \n",
      " global_average_pooling2d (G  (None, 2048)             0         \n",
      " lobalAveragePooling2D)                                          \n",
      "                                                                 \n",
      " dropout (Dropout)           (None, 2048)              0         \n",
      "                                                                 \n",
      " dense (Dense)               (None, 51)                104499    \n",
      "                                                                 \n",
      "=================================================================\n",
      "Total params: 20,965,979\n",
      "Trainable params: 104,499\n",
      "Non-trainable params: 20,861,480\n",
      "_________________________________________________________________\n"
     ]
    }
   ],
   "source": [
    "data_augmentation = tf.keras.Sequential(\n",
    "    [tf.keras.layers.RandomFlip(\"horizontal\"), tf.keras.layers.RandomRotation(0.1),]\n",
    ")\n",
    "normalization = tf.keras.layers.Rescaling(scale=1/127.5, offset=-1)\n",
    "inputs = tf.keras.Input(shape=(frame_size,frame_size,3))\n",
    "\n",
    "preprocess = data_augmentation(inputs)\n",
    "preprocess = normalization(preprocess)\n",
    "\n",
    "x = pretrained_model(preprocess,training=False)\n",
    "x = tf.keras.layers.GlobalAveragePooling2D()(x)\n",
    "x = tf.keras.layers.Dropout(.2)(x)\n",
    "\n",
    "outputs = tf.keras.layers.Dense(len(labels),activation='softmax')(x)\n",
    "model = tf.keras.Model(inputs,outputs)\n",
    "\n",
    "model.summary()"
   ]
  },
  {
   "cell_type": "code",
   "execution_count": 94,
   "metadata": {},
   "outputs": [
    {
     "data": {
      "image/png": "[encoded data removed]",
      "text/plain": [
       "<IPython.core.display.Image object>"
      ]
     },
     "execution_count": 94,
     "metadata": {},
     "output_type": "execute_result"
    }
   ],
   "source": [
    "tf.keras.utils.plot_model(model, \"modelo_tfg.png\", show_shapes=True)"
   ]
  },
  {
   "cell_type": "markdown",
   "metadata": {},
   "source": [
    "Functions that converts numpys to TFRecords"
   ]
  },
  {
   "cell_type": "code",
   "execution_count": 26,
   "metadata": {},
   "outputs": [],
   "source": [
    "\n",
    "def _int64_feature(value):\n",
    "  return tf.train.Feature(int64_list=tf.train.Int64List(value=[value]))\n",
    "\n",
    "\n",
    "def _bytes_feature(value):\n",
    "  return tf.train.Feature(bytes_list=tf.train.BytesList(value=[value]))\n",
    "\n",
    "def save_numpy_to_tfrecords(data, label, destination_path, name, fragmentSize,\n",
    "                            current_batch_number, total_batch_number,\n",
    "                            color_depth):\n",
    "  \"\"\"Converts an entire dataset into x tfrecords where x=videos/fragmentSize.\n",
    "\n",
    "  Args:\n",
    "    data: ndarray(uint32) of shape (v,i,h,w,c) with v=number of videos,\n",
    "    i=number of images, c=number of image channels, h=image height, w=image\n",
    "    width\n",
    "    name: filename; data samples type (train|valid|test)\n",
    "    fragmentSize: specifies how many videos are stored in one tfrecords file\n",
    "    current_batch_number: indicates the current batch index (function call within loop)\n",
    "    total_batch_number: indicates the total number of batches\n",
    "  \"\"\"\n",
    "\n",
    "  num_videos = data.shape[0]\n",
    "  num_images = data.shape[1]\n",
    "  num_channels = data.shape[4]\n",
    "  height = data.shape[2]\n",
    "  width = data.shape[3]\n",
    "\n",
    "  writer = None\n",
    "  feature = {}\n",
    "\n",
    "  for video_count in range((num_videos)):\n",
    "\n",
    "    if video_count % fragmentSize == 0:\n",
    "      if writer is not None:\n",
    "        writer.close()\n",
    "      filename = os.path.join(destination_path,\n",
    "                              name + str(current_batch_number) + '_of_' + str(\n",
    "                                total_batch_number) + '.tfrecord')\n",
    "      print('Writing', filename)\n",
    "      writer = tf.io.TFRecordWriter(filename)\n",
    "\n",
    "    for image_count in range(num_images):\n",
    "      path = 'blob' + '/' + str(image_count)\n",
    "      image = data[video_count, image_count, :, :, :]\n",
    "      image = image.astype(color_depth)\n",
    "      image_raw = image.tobytes()\n",
    "\n",
    "      feature[path] = _bytes_feature(image_raw)\n",
    "      \n",
    "    feature['label'] = _int64_feature(label)\n",
    "    \n",
    "    example = tf.train.Example(features=tf.train.Features(feature=feature))\n",
    "    writer.write(example.SerializeToString())\n",
    "  if writer is not None:\n",
    "    writer.close()"
   ]
  },
  {
   "cell_type": "markdown",
   "metadata": {},
   "source": [
    "Function that converts the videos from a split into TFRecords"
   ]
  },
  {
   "cell_type": "code",
   "execution_count": null,
   "metadata": {},
   "outputs": [],
   "source": [
    "\n",
    "def split_to_tfrecords(split_data,split_number,split_type,n_videos_in_record):\n",
    "    \n",
    "    n_of_records=int(len(split_data)/n_videos_in_record)\n",
    "    hmdb51_directory='../hmdb51_org/'\n",
    "\n",
    "    i=0\n",
    "    for batch in range(n_of_records):\n",
    "\n",
    "        data=[]\n",
    "        current_batch=split_data[i:i+n_videos_in_record]\n",
    "        label_of_batch=current_batch[0][1]\n",
    "    \n",
    "        for name_and_label in current_batch:\n",
    "            np_video=load_video(hmdb51_directory+name_and_label[1]+'/'+name_and_label[0],frames_per_video)\n",
    "            data.append(np_video)\n",
    "        \n",
    "        path='../tfRecords/split'+str(split_number)+'/'+label_of_batch\n",
    "        if not os.path.exists(path):\n",
    "            os.makedirs(path)\n",
    "        save_numpy_to_tfrecords(np.array(data), batch+1, path, split_type+'Batch_', n_videos_in_record,batch+1, total_batch_number=n_of_records, color_depth=\"uint8\")\n",
    "        i=i+n_videos_in_record\n",
    "\n",
    "split_to_tfrecords(train_split1,1,'train',70)\n",
    "split_to_tfrecords(test_split1,1,'test',30)\n"
   ]
  },
  {
   "cell_type": "markdown",
   "metadata": {},
   "source": [
    "Function to load a video from a serialized example of a TFRecordDataset"
   ]
  },
  {
   "cell_type": "code",
   "execution_count": 106,
   "metadata": {},
   "outputs": [],
   "source": [
    "\n",
    "def load_video_from_tfrecord(serialized_example):\n",
    "    \n",
    "    video = []\n",
    "    for image_count in range(frames_per_video):\n",
    "        path = 'blob' + '/' + str(image_count)\n",
    "        feature_dict = {\n",
    "            path: tf.io.FixedLenFeature([], tf.string),\n",
    "            'label':tf.io.FixedLenFeature([],tf.int64)\n",
    "        }\n",
    "        \n",
    "        features = tf.io.parse_example(serialized_example,features=feature_dict)\n",
    "\n",
    "        frame_raw = features[path]\n",
    "        label=features['label']\n",
    "\n",
    "        frame = tf.io.decode_raw(frame_raw,out_type=tf.uint8)\n",
    "        frame = tf.reshape(frame, shape=[frame_size, frame_size, 3])\n",
    "\n",
    "        video.append(frame)\n",
    "    return (video,label)\n",
    "\n",
    "# filename=['../tfRecords/split1/brush_hair/trainBatch_1_of_51.tfrecord']\n",
    "\n",
    "# raw_tfrecord=tf.data.TFRecordDataset(filename)\n",
    "\n",
    "# x=raw_tfrecord.take(1)\n",
    "# video=load_video_from_tfrecord(next(iter(x)))\n",
    "# to_gif(video[0])\n"
   ]
  },
  {
   "cell_type": "markdown",
   "metadata": {},
   "source": [
    "Function to load dataset"
   ]
  },
  {
   "cell_type": "code",
   "execution_count": 105,
   "metadata": {},
   "outputs": [],
   "source": [
    "def load_dataset(filenames):\n",
    "    ignore_order = tf.data.Options()\n",
    "    ignore_order.deterministic = True\n",
    "    dataset=tf.data.TFRecordDataset(filenames)\n",
    "    dataset=dataset.with_options(ignore_order)\n",
    "    dataset=dataset.map(partial(load_video_from_tfrecord))\n",
    "    return dataset\n",
    "\n",
    "def get_dataset(filenames):\n",
    "    dataset = load_dataset(filenames)\n",
    "    dataset = dataset.batch(batch_size)\n",
    "    return dataset\n"
   ]
  },
  {
   "cell_type": "markdown",
   "metadata": {},
   "source": [
    "We start the training and testing of our first split."
   ]
  },
  {
   "cell_type": "code",
   "execution_count": 91,
   "metadata": {},
   "outputs": [],
   "source": [
    "train_filenames = tf.io.gfile.glob('../tfRecords/split1/*/train*.tfrecord')\n",
    "test_filenames = tf.io.gfile.glob('../tfRecords/split1/*/test*.tfrecord')\n",
    "\n",
    "train_dataset = get_dataset(train_filenames)\n",
    "x=train_dataset.take(5)\n",
    "it=iter(x)\n",
    "aux=next(it)\n",
    "video_and_label=next(it)\n",
    "video=video_and_label[0][0]\n",
    "label=video_and_label[1]\n",
    "to_gif(video)"
   ]
  },
  {
   "cell_type": "code",
   "execution_count": 107,
   "metadata": {},
   "outputs": [],
   "source": [
    "initial_learning_rate = 0.01\n",
    "lr_schedule = tf.keras.optimizers.schedules.ExponentialDecay(\n",
    "    initial_learning_rate, decay_steps=20, decay_rate=0.96, staircase=True\n",
    ")\n",
    "\n",
    "checkpoint_cb = tf.keras.callbacks.ModelCheckpoint(\n",
    "    \"51activity_model.h5\", save_best_only=True\n",
    ")\n",
    "\n",
    "early_stopping_cb = tf.keras.callbacks.EarlyStopping(\n",
    "    patience=10, restore_best_weights=True\n",
    ")\n",
    "\n",
    "model.compile(\n",
    "    optimizer=tf.keras.optimizers.Adam(learning_rate=lr_schedule),\n",
    "    loss=\"sparse_categorical_crossentropy\",\n",
    "    metrics=[\"accuracy\"]\n",
    ")"
   ]
  },
  {
   "cell_type": "code",
   "execution_count": null,
   "metadata": {},
   "outputs": [],
   "source": [
    "model.fit(train_dataset, epochs=10, callbacks=[checkpoint_cb,early_stopping_cb])"
   ]
  },
  {
   "cell_type": "code",
   "execution_count": 31,
   "metadata": {},
   "outputs": [
    {
     "name": "stdout",
     "output_type": "stream",
     "text": [
      "📁 tfRecords/\n",
      "├─📁 split1/\n",
      "│ ├─📁 brush_hair/\n",
      "│ │ ├─📄 testBatch_1_of_51.tfrecord\n",
      "│ │ └─📄 trainBatch_1_of_51.tfrecord\n",
      "│ ├─📁 cartwheel/\n",
      "│ │ ├─📄 testBatch_2_of_51.tfrecord\n",
      "│ │ └─📄 trainBatch_2_of_51.tfrecord\n",
      "│ ├─📁 catch/\n",
      "│ │ ├─📄 testBatch_3_of_51.tfrecord\n",
      "│ │ └─📄 trainBatch_3_of_51.tfrecord\n",
      "│ └─📄 48 folder(s), 0 file(s)\n",
      "├─📁 split2/\n",
      "└─📁 split3/\n"
     ]
    }
   ],
   "source": [
    "sd.seedir('../tfRecords', style='emoji', itemlimit=3, beyond='content')"
   ]
  }
 ],
 "metadata": {
  "interpreter": {
   "hash": "66d620862119a6823f5bf4d48cc626005a8040f84c449bba9a025454dbcbe4db"
  },
  "kernelspec": {
   "display_name": "Python 3.8.12 ('TFG')",
   "language": "python",
   "name": "python3"
  },
  "language_info": {
   "codemirror_mode": {
    "name": "ipython",
    "version": 3
   },
   "file_extension": ".py",
   "mimetype": "text/x-python",
   "name": "python",
   "nbconvert_exporter": "python",
   "pygments_lexer": "ipython3",
   "version": "3.8.12"
  },
  "orig_nbformat": 4
 },
 "nbformat": 4,
 "nbformat_minor": 2
}
