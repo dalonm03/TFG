{
 "cells": [
  {
   "cell_type": "code",
   "execution_count": 1,
   "metadata": {},
   "outputs": [
    {
     "name": "stdout",
     "output_type": "stream",
     "text": [
      "tf: 2.9.1\n",
      "cv: 4.0.1\n"
     ]
    }
   ],
   "source": [
    "import tensorflow as tf\n",
    "import cv2 as cv\n",
    "import numpy as np\n",
    "from sklearn.metrics import classification_report, confusion_matrix, ConfusionMatrixDisplay\n",
    "import pandas as pd\n",
    "import tensorboard as tb\n",
    "import matplotlib.pyplot as plt\n",
    "import imageio\n",
    "import re\n",
    "import seedir as sd\n",
    "import datetime\n",
    "from functools import partial\n",
    "\n",
    "print('tf: '+tf.__version__)\n",
    "print('cv: '+cv.__version__)"
   ]
  },
  {
   "cell_type": "code",
   "execution_count": 2,
   "metadata": {},
   "outputs": [
    {
     "name": "stdout",
     "output_type": "stream",
     "text": [
      "Num GPUs Available:  1\n"
     ]
    }
   ],
   "source": [
    "print(\"Num GPUs Available: \", len(tf.config.list_physical_devices('GPU')))"
   ]
  },
  {
   "cell_type": "markdown",
   "metadata": {},
   "source": [
    "FUNCTIONS TO MANIPULATE AND PLAY VIDEOS"
   ]
  },
  {
   "cell_type": "code",
   "execution_count": 3,
   "metadata": {},
   "outputs": [],
   "source": [
    "#Function that plays the videos within a directory\n",
    "def play_videos(directory):\n",
    "    \n",
    "    for video_name in os.listdir(directory):\n",
    "    # try:\n",
    "            cap=cv.VideoCapture(directory+video_name)\n",
    "            while cap.isOpened():\n",
    "                ret, frame=cap.read()\n",
    "                if not ret:\n",
    "                    print(\"Can't receive frame (stream end?). Exiting...\")\n",
    "                    break\n",
    "                cv.imshow('frame',frame)\n",
    "                if cv.waitKey(1)==ord('q'):\n",
    "                    break\n",
    "\n",
    "            cap.release()\n",
    "            cv.destroyAllWindows()\n",
    "#play_videos('../hmdb51_org/fall_floor/')"
   ]
  },
  {
   "cell_type": "markdown",
   "metadata": {},
   "source": [
    "Define hyperparameters"
   ]
  },
  {
   "cell_type": "code",
   "execution_count": 4,
   "metadata": {},
   "outputs": [],
   "source": [
    "epochs=100\n",
    "frame_size=240\n",
    "batch_size=32\n",
    "frames_per_video=10\n",
    "frame_separation=0"
   ]
  },
  {
   "cell_type": "code",
   "execution_count": 5,
   "metadata": {},
   "outputs": [],
   "source": [
    "#Function that crops the frames\n",
    "def crop_center_square(frame):\n",
    "  y, x = frame.shape[0:2]\n",
    "  min_dim = min(y, x)\n",
    "  start_x = (x // 2) - (min_dim // 2)\n",
    "  start_y = (y // 2) - (min_dim // 2)\n",
    "  return frame[start_y:start_y+min_dim,start_x:start_x+min_dim]\n",
    "\n",
    "#Function that loads video\n",
    "def load_video(path, max_frames=0, frame_separation=0, resize=(frame_size, frame_size)):\n",
    "  cap = cv.VideoCapture(path)\n",
    "  frames = []\n",
    "  length = int(cap.get(cv.CAP_PROP_FRAME_COUNT))\n",
    "  if length<37: #((frame_separation+1)*max_frames)\n",
    "    frame_separation=0\n",
    "  frame_count=0\n",
    "\n",
    "  try:\n",
    "    while True:\n",
    "      ret, frame = cap.read()\n",
    "      if not ret:\n",
    "        break\n",
    "      if frame_separation<=0 or (frame_count % (frame_separation+1))==0:\n",
    "        frame = crop_center_square(frame)\n",
    "        frame = cv.resize(frame, resize)\n",
    "        frame = frame[:, :, [2, 1, 0]]\n",
    "        frames.append(frame)\n",
    "        \n",
    "\n",
    "        if len(frames) == max_frames:\n",
    "          break\n",
    "      frame_count+=1\n",
    "  finally:\n",
    "    cap.release()\n",
    "  return np.array(frames)\n",
    "\n",
    "#Makes a gif out of frames\n",
    "def to_gif(images,name):\n",
    "  converted_images = np.clip(images, 0, 255).astype(np.uint8)\n",
    "  imageio.mimsave(name, converted_images, fps=30)\n",
    "\n",
    "#sample_video = load_video('../hmdb51_org/fall_floor/THE_PROTECTOR_fall_floor_f_nm_np1_le_bad_2.avi',10,3)\n",
    "# to_gif(sample_video, 'sin_recorte.gif')\n",
    "# sample_video = load_video('../hmdb51_org/fall_floor/Catch_Me_If_You_Can_fall_floor_f_cm_np1_fr_med_0.avi',10,3)\n",
    "# to_gif(sample_video, 'con_recorte.gif')"
   ]
  },
  {
   "cell_type": "markdown",
   "metadata": {},
   "source": [
    "We get the labels of the HMDB51 dataset"
   ]
  },
  {
   "cell_type": "code",
   "execution_count": 26,
   "metadata": {},
   "outputs": [],
   "source": [
    "labels = os.listdir('../hmdb51_org')\n",
    "adl_labels={\n",
    "    \"brush_hair\":labels.index(\"brush_hair\"),\n",
    "    \"climb_stairs\":labels.index(\"climb_stairs\"),\n",
    "    \"drink\":labels.index(\"drink\"),\n",
    "    \"eat\":labels.index(\"eat\"),\n",
    "    \"fall_floor\":labels.index(\"fall_floor\"),\n",
    "    \"pick\":labels.index(\"pick\"),\n",
    "    \"push\":labels.index(\"push\"),\n",
    "    \"run\":labels.index(\"run\"),\n",
    "    \"sit\":labels.index(\"sit\"),\n",
    "    \"stand\":labels.index(\"stand\"),\n",
    "    \"walk\":labels.index(\"walk\")\n",
    "}"
   ]
  },
  {
   "cell_type": "markdown",
   "metadata": {},
   "source": [
    "Function for getting the name and lable of the different train and test split videos."
   ]
  },
  {
   "cell_type": "code",
   "execution_count": 55,
   "metadata": {},
   "outputs": [],
   "source": [
    "def get_split(split_number,labels=None):\n",
    "    splits_files= os.listdir('../test_train_splits')\n",
    "    train_split=[]\n",
    "    test_split=[]\n",
    "    r = re.compile(str(split_number)+'\\.txt$')\n",
    "    split_files=list(filter(r.search,splits_files))\n",
    "\n",
    "    for file in split_files:\n",
    "        file_class=file.rsplit(\"_test\")[0]\n",
    "        if labels is None or file_class in labels:\n",
    "\n",
    "            f=open('../test_train_splits/'+file,'r')\n",
    "            for line in f:\n",
    "                if(re.search('1 $',line)):\n",
    "                    train_split.append((line.split(' ',1)[0],file.split('_test',1)[0]))\n",
    "                elif(re.search('2 $',line)):\n",
    "                    test_split.append((line.split(' ',1)[0],file.split('_test',1)[0]))\n",
    "\n",
    "            f.close()\n",
    "    return (train_split,test_split)\n",
    "train_split1,test_split1=get_split(1)\n",
    "train_split1_adl,test_split1_adl=get_split(1,labels=adl_labels)\n",
    "train_split2_adl,test_split2_adl=get_split(2,labels=adl_labels)\n",
    "train_split3_adl,test_split3_adl=get_split(3,labels=adl_labels)"
   ]
  },
  {
   "cell_type": "markdown",
   "metadata": {},
   "source": [
    "Functions that converts numpys to TFRecords"
   ]
  },
  {
   "cell_type": "code",
   "execution_count": 8,
   "metadata": {},
   "outputs": [],
   "source": [
    "\n",
    "def _int64_feature(value):\n",
    "  return tf.train.Feature(int64_list=tf.train.Int64List(value=[value]))\n",
    "\n",
    "\n",
    "def _bytes_feature(value):\n",
    "  return tf.train.Feature(bytes_list=tf.train.BytesList(value=[value]))\n",
    "\n",
    "def save_numpy_to_tfrecords(data, label, destination_path, name, fragmentSize,\n",
    "                            current_batch_number, total_batch_number,\n",
    "                            color_depth):\n",
    "  \"\"\"Converts an entire dataset into x tfrecords where x=videos/fragmentSize.\n",
    "\n",
    "  Args:\n",
    "    data: ndarray(uint32) of shape (v,i,h,w,c) with v=number of videos,\n",
    "    i=number of images, c=number of image channels, h=image height, w=image\n",
    "    width\n",
    "    name: filename; data samples type (train|valid|test)\n",
    "    fragmentSize: specifies how many videos are stored in one tfrecords file\n",
    "    current_batch_number: indicates the current batch index (function call within loop)\n",
    "    total_batch_number: indicates the total number of batches\n",
    "  \"\"\"\n",
    "\n",
    "  num_videos = data.shape[0]\n",
    "  num_images = data.shape[1]\n",
    "  num_channels = data.shape[4]\n",
    "  height = data.shape[2]\n",
    "  width = data.shape[3]\n",
    "\n",
    "  writer = None\n",
    "  feature = {}\n",
    "\n",
    "  for video_count in range((num_videos)):\n",
    "\n",
    "    if video_count % fragmentSize == 0:\n",
    "      if writer is not None:\n",
    "        writer.close()\n",
    "      filename = os.path.join(destination_path,\n",
    "                              name + str(current_batch_number) + '_of_' + str(\n",
    "                                total_batch_number) + '.tfrecord')\n",
    "      print('Writing', filename)\n",
    "      writer = tf.io.TFRecordWriter(filename)\n",
    "\n",
    "    for image_count in range(num_images):\n",
    "      path = 'blob' + '/' + str(image_count)\n",
    "      image = data[video_count, image_count, :, :, :]\n",
    "      image = image.astype(color_depth)\n",
    "      image_raw = image.tobytes()\n",
    "\n",
    "      feature[path] = _bytes_feature(image_raw)\n",
    "      \n",
    "    feature['label'] = _int64_feature(label)\n",
    "    \n",
    "    example = tf.train.Example(features=tf.train.Features(feature=feature))\n",
    "    writer.write(example.SerializeToString())\n",
    "  if writer is not None:\n",
    "    writer.close()"
   ]
  },
  {
   "cell_type": "code",
   "execution_count": 9,
   "metadata": {},
   "outputs": [],
   "source": [
    "def _float_feature(value):\n",
    "  return tf.train.Feature(float_list=tf.train.FloatList(value=value))\n",
    "\n",
    "def save_feature_to_tfrecord(video_features,labels,destination_path,name):\n",
    "  num_videos = video_features.shape[0]\n",
    "  num_images = video_features.shape[1]\n",
    "  num_features = video_features.shape[2]\n",
    "\n",
    "  filename = os.path.join(destination_path, name + '.tfrecord')\n",
    "  writer = tf.io.TFRecordWriter(filename)\n",
    "  print('Writing', filename)\n",
    "  feature = {}\n",
    "\n",
    "  for video_count in range(num_videos):\n",
    "    for image_count in range(num_images):\n",
    "      path=\"feature/\"+str(image_count)\n",
    "      frame_feature=video_features[video_count,image_count,:]\n",
    "\n",
    "      feature[path] = _float_feature(frame_feature)\n",
    "\n",
    "    feature['label'] = _int64_feature(labels[video_count])\n",
    "\n",
    "    example = tf.train.Example(features=tf.train.Features(feature=feature))\n",
    "    writer.write(example.SerializeToString())\n",
    "    \n",
    "   \n",
    "    "
   ]
  },
  {
   "cell_type": "markdown",
   "metadata": {},
   "source": [
    "Function that converts the videos from a split into TFRecords"
   ]
  },
  {
   "cell_type": "code",
   "execution_count": null,
   "metadata": {},
   "outputs": [],
   "source": [
    "\n",
    "def split_to_tfrecords(split_data,split_number,split_type,n_videos_in_record):\n",
    "    \n",
    "    n_of_records=int(len(split_data)/n_videos_in_record)\n",
    "    hmdb51_directory='../hmdb51_org/'\n",
    "\n",
    "    i=0\n",
    "    for batch in range(n_of_records):\n",
    "\n",
    "        data=[]\n",
    "        current_batch=split_data[i:i+n_videos_in_record]\n",
    "        label_of_batch=current_batch[0][1]\n",
    "    \n",
    "        for name_and_label in current_batch:\n",
    "            np_video=load_video(hmdb51_directory+name_and_label[1]+'/'+name_and_label[0],frames_per_video,frame_separation)\n",
    "            data.append(np_video)\n",
    "        \n",
    "        path='../tfRecords/split'+str(split_number)+'/'+label_of_batch\n",
    "        if not os.path.exists(path):\n",
    "            os.makedirs(path)\n",
    "        save_numpy_to_tfrecords(np.array(data), batch, path, split_type+'Batch_', n_videos_in_record,batch+1, total_batch_number=n_of_records, color_depth=\"uint8\")\n",
    "        i=i+n_videos_in_record\n",
    "\n",
    "#split_to_tfrecords(train_split1,1,'train',70)\n",
    "#split_to_tfrecords(test_split1,1,'test',30)\n",
    "#split_to_tfrecords(train_split1_adl,1,'adl_train',70)\n",
    "#split_to_tfrecords(test_split1_adl,1,'adl_test',30)\n",
    "# split_to_tfrecords(train_split2_adl,2,'adl_train',70)\n",
    "# split_to_tfrecords(test_split2_adl,2,'adl_test',30)\n",
    "# split_to_tfrecords(train_split3_adl,3,'adl_train',70)\n",
    "# split_to_tfrecords(test_split3_adl,3,'adl_test',30)"
   ]
  },
  {
   "cell_type": "markdown",
   "metadata": {},
   "source": [
    "Function to load a video from a serialized example of a TFRecordDataset"
   ]
  },
  {
   "cell_type": "code",
   "execution_count": null,
   "metadata": {},
   "outputs": [],
   "source": [
    "\n",
    "def load_video_from_tfrecord(serialized_example):\n",
    "    \n",
    "    video = []\n",
    "    for image_count in range(frames_per_video):\n",
    "        path = 'blob' + '/' + str(image_count)\n",
    "        feature_dict = {\n",
    "            path: tf.io.FixedLenFeature([], tf.string),\n",
    "            'label':tf.io.FixedLenFeature([],tf.int64)\n",
    "        }\n",
    "        \n",
    "        features = tf.io.parse_example(serialized_example,features=feature_dict)\n",
    "\n",
    "        frame_raw = features[path]\n",
    "        label=features['label']\n",
    "\n",
    "        frame = tf.io.decode_raw(frame_raw,out_type=tf.uint8)\n",
    "        frame = tf.reshape(frame, shape=[frame_size, frame_size, 3])\n",
    "\n",
    "        video.append(frame)\n",
    "    return (video,label)\n",
    "\n",
    "def load_features_from_tfrecord(serialized_example):\n",
    "\n",
    "    video_features = []\n",
    "    for image_count in range(frames_per_video):\n",
    "        path = 'feature' + '/' + str(image_count)\n",
    "        feature_dict = {\n",
    "            path: tf.io.FixedLenFeature([2048], tf.float32),\n",
    "            'label':tf.io.FixedLenFeature([],tf.int64)\n",
    "        }\n",
    "\n",
    "        features = tf.io.parse_example(serialized_example,features=feature_dict)\n",
    "        \n",
    "        video_features.append(features[path])\n",
    "        label=features['label']\n",
    "    return (video_features,label)\n",
    "\n",
    "# filename=['../tfRecords/split1/drink/adl_trainBatch_3_of_11.tfrecord']\n",
    "\n",
    "# raw_tfrecord=tf.data.TFRecordDataset(filename)\n",
    "\n",
    "# x=raw_tfrecord.take(1)\n",
    "# video=load_video_from_tfrecord(next(iter(x)))\n",
    "# print()\n",
    "# to_gif(video[0])\n"
   ]
  },
  {
   "cell_type": "markdown",
   "metadata": {},
   "source": [
    "Function to load dataset"
   ]
  },
  {
   "cell_type": "code",
   "execution_count": 12,
   "metadata": {},
   "outputs": [],
   "source": [
    "def load_dataset(filenames):\n",
    "    ignore_order = tf.data.Options()\n",
    "    ignore_order.deterministic = False\n",
    "    dataset=tf.data.TFRecordDataset(filenames)\n",
    "    dataset=dataset.with_options(ignore_order)\n",
    "    dataset=dataset.map(partial(load_video_from_tfrecord))\n",
    "    return dataset\n",
    "\n",
    "def load_features(filenames):\n",
    "    ignore_order = tf.data.Options()\n",
    "    ignore_order.deterministic = False\n",
    "    dataset=tf.data.TFRecordDataset(filenames)\n",
    "    dataset=dataset.with_options(ignore_order)\n",
    "    dataset=dataset.map(partial(load_features_from_tfrecord))\n",
    "    return dataset\n",
    "\n",
    "def get_dataset(filenames,batch_size=0):\n",
    "    dataset = load_dataset(filenames)\n",
    "    if batch_size>0:\n",
    "        dataset = dataset.batch(batch_size)\n",
    "    return dataset\n",
    "\n",
    "def get_features(filenames,batch_size=0):\n",
    "    dataset = load_features(filenames)\n",
    "    dataset = dataset.shuffle(3570)\n",
    "    if batch_size>0:\n",
    "        dataset = dataset.batch(batch_size)\n",
    "        \n",
    "    return dataset\n"
   ]
  },
  {
   "cell_type": "code",
   "execution_count": 57,
   "metadata": {},
   "outputs": [],
   "source": [
    "train_filenames = tf.io.gfile.glob('../tfRecords/split1/*/train*.tfrecord')\n",
    "test_filenames = tf.io.gfile.glob('../tfRecords/split1/*/test*.tfrecord')\n",
    "train_filenames_adl = tf.io.gfile.glob('../tfRecords/split*/*/adl_train*.tfrecord')\n",
    "test_filenames_adl = tf.io.gfile.glob('../tfRecords/split*/*/adl_test*.tfrecord')\n",
    "\n",
    "train_dataset = get_dataset(train_filenames)\n",
    "test_dataset = get_dataset(test_filenames)\n",
    "train_dataset_adl = get_dataset(train_filenames_adl)\n",
    "test_dataset_adl = get_dataset(test_filenames_adl)\n",
    "#print(train_dataset)\n",
    "# x=train_dataset.take(5)\n",
    "# it=iter(x)\n",
    "# aux=next(it)\n",
    "# video_and_label=next(it)\n",
    "# video=video_and_label[0][0]\n",
    "# label=video_and_label[1]\n",
    "# to_gif(video)"
   ]
  },
  {
   "cell_type": "markdown",
   "metadata": {},
   "source": [
    "Checkpoints"
   ]
  },
  {
   "cell_type": "code",
   "execution_count": 48,
   "metadata": {},
   "outputs": [],
   "source": [
    "initial_learning_rate = 0.00001\n",
    "lr_schedule = tf.keras.optimizers.schedules.ExponentialDecay(\n",
    "    initial_learning_rate, decay_steps=20, decay_rate=0.96, staircase=True\n",
    ")\n",
    "\n",
    "checkpoint_cb = tf.keras.callbacks.ModelCheckpoint(\n",
    "    \"../checkpoint/adl_activity_LSTMmodel_{epoch:02d}-{val_loss:.2f}.hdf5\", save_best_only=True,\n",
    ")\n",
    "\n",
    "early_stopping_cb = tf.keras.callbacks.EarlyStopping(\n",
    "    patience=5, restore_best_weights=True, \n",
    ")"
   ]
  },
  {
   "cell_type": "code",
   "execution_count": 15,
   "metadata": {},
   "outputs": [],
   "source": [
    "#model.fit(train_dataset, epochs=10, callbacks=[checkpoint_cb,early_stopping_cb])"
   ]
  },
  {
   "cell_type": "code",
   "execution_count": 16,
   "metadata": {},
   "outputs": [
    {
     "name": "stdout",
     "output_type": "stream",
     "text": [
      "📁 tfRecords/\n",
      "├─📁 split1/\n",
      "│ ├─📁 brush_hair/\n",
      "│ │ ├─📄 testBatch_1_of_51.tfrecord\n",
      "│ │ └─📄 trainBatch_1_of_51.tfrecord\n",
      "│ ├─📁 cartwheel/\n",
      "│ │ ├─📄 testBatch_2_of_51.tfrecord\n",
      "│ │ └─📄 trainBatch_2_of_51.tfrecord\n",
      "│ ├─📁 catch/\n",
      "│ │ ├─📄 testBatch_3_of_51.tfrecord\n",
      "│ │ └─📄 trainBatch_3_of_51.tfrecord\n",
      "│ └─📄 48 folder(s), 0 file(s)\n",
      "├─📁 split2/\n",
      "└─📁 split3/\n"
     ]
    }
   ],
   "source": [
    "sd.seedir('../tfRecords', style='emoji', itemlimit=3, beyond='content')"
   ]
  },
  {
   "cell_type": "markdown",
   "metadata": {},
   "source": [
    "CNN+RNN"
   ]
  },
  {
   "cell_type": "markdown",
   "metadata": {},
   "source": [
    "We define the convolutional base that we are going to use for feature extraction."
   ]
  },
  {
   "cell_type": "code",
   "execution_count": 17,
   "metadata": {},
   "outputs": [],
   "source": [
    "def new_feature_extractor():\n",
    "    feature_extractor = tf.keras.applications.Xception(\n",
    "        weights='imagenet',\n",
    "        pooling='avg',\n",
    "        include_top=False,\n",
    "        input_shape=(frame_size,frame_size,3)\n",
    "    )\n",
    "    inputs = tf.keras.Input((frame_size,frame_size,3))\n",
    "    preprocess = tf.keras.applications.xception.preprocess_input\n",
    "\n",
    "    preprocessed = preprocess(inputs)\n",
    "\n",
    "    out = feature_extractor(preprocessed)\n",
    "    return tf.keras.Model(inputs,out, name=\"extractor_carecteristicas\")\n",
    "feature_extractor = new_feature_extractor()"
   ]
  },
  {
   "cell_type": "code",
   "execution_count": null,
   "metadata": {},
   "outputs": [],
   "source": [
    "def extract_features(dataset,num_videos):\n",
    "        \n",
    "    print(num_videos)\n",
    "    frame_features = np.zeros(\n",
    "        shape=(num_videos, frames_per_video, 2048), dtype=\"float32\"\n",
    "    )\n",
    "    labels=np.zeros(shape=(num_videos,),dtype=\"int8\")\n",
    "    for index, video_label in enumerate(dataset):\n",
    "        #print(video_label)\n",
    "\n",
    "        frames = video_label[0]\n",
    "        label = video_label[1]\n",
    "        labels[index]=label.numpy()\n",
    "\n",
    "        frames=frames[None, ...]\n",
    "        aux_features = np.zeros(\n",
    "            shape=(1, frames_per_video, 2048), dtype='float32'\n",
    "        )\n",
    "\n",
    "        for i, batch in enumerate(frames):\n",
    "            video_length = batch.shape[0]\n",
    "            for j in range(video_length):\n",
    "                aux_features[i, j, :] = feature_extractor.predict(batch[None,j,:], verbose=0)\n",
    "\n",
    "        \n",
    "        frame_features[index,] = aux_features.squeeze()\n",
    "        print(index)\n",
    "    return frame_features,labels\n",
    "\n",
    "# trn_features=extract_features(train_dataset,len(train_split1))\n",
    "# tst_features=extract_features(test_dataset,len(test_split1))\n",
    "# trn_features=extract_features(train_dataset_adl,len(train_split1_adl)*3)\n",
    "# tst_features=extract_features(test_dataset_adl,len(test_split1_adl)*3)\n",
    "# save_feature_to_tfrecord(trn_features[0],trn_features[1],'../features','adl_trainavg')\n",
    "# save_feature_to_tfrecord(tst_features[0],tst_features[1],'../features','adl_testavg')\n",
    "#print(features)"
   ]
  },
  {
   "cell_type": "code",
   "execution_count": null,
   "metadata": {},
   "outputs": [],
   "source": [
    "label_processor = tf.keras.layers.StringLookup(\n",
    "    num_oov_indices=0, vocabulary=np.unique(labels)\n",
    ")\n",
    "#print(label_processor.get_vocabulary())"
   ]
  },
  {
   "cell_type": "code",
   "execution_count": 60,
   "metadata": {},
   "outputs": [],
   "source": [
    "\n",
    "train_features=get_features('../features/adl_trainavg.tfrecord',batch_size)\n",
    "\n",
    "test_features=get_features('../features/adl_testavg.tfrecord',batch_size)\n",
    "# j=1\n",
    "# for i,feature_label in enumerate(train_features):\n",
    "#     if feature_label[1].numpy()[0]==0:\n",
    "#         print(j)\n",
    "#         j+=1\n",
    "#sum(1 for _ in test_dataset)\n"
   ]
  },
  {
   "cell_type": "code",
   "execution_count": 61,
   "metadata": {},
   "outputs": [],
   "source": [
    "def new_lstm_model(n_labels):\n",
    "    frame_features_input = tf.keras.Input((frames_per_video, 2048))\n",
    "\n",
    "    x = tf.keras.layers.LSTM(4096, return_sequences=False,dropout=0.5)(frame_features_input)\n",
    "    #x = tf.keras.layers.lstm(1024)(x)\n",
    "    x = tf.keras.layers.Dense(512, activation='relu')(x)\n",
    "    x = tf.keras.layers.Dropout(0.5)(x)\n",
    "    output = tf.keras.layers.Dense(n_labels, activation='softmax')(x)\n",
    "\n",
    "    lstm_model = tf.keras.Model(frame_features_input,output)\n",
    "\n",
    "    lstm_model.compile(\n",
    "        loss='sparse_categorical_crossentropy', optimizer='adam', metrics=['accuracy',tf.keras.metrics.SparseTopKCategoricalAccuracy(k=5)]\n",
    "    )\n",
    "    return lstm_model"
   ]
  },
  {
   "cell_type": "code",
   "execution_count": 62,
   "metadata": {},
   "outputs": [],
   "source": [
    "lstm_model = new_lstm_model(len(adl_labels))\n",
    "#tf.keras.utils.plot_model(lstm_model, \"lstm_modelo_tfg.png\", show_shapes=True)"
   ]
  },
  {
   "cell_type": "markdown",
   "metadata": {},
   "source": [
    "Training of RNN"
   ]
  },
  {
   "cell_type": "code",
   "execution_count": 63,
   "metadata": {},
   "outputs": [
    {
     "name": "stdout",
     "output_type": "stream",
     "text": [
      "Epoch 1/100\n",
      "73/73 [==============================] - 36s 448ms/step - loss: 2.2087 - accuracy: 0.2558 - sparse_top_k_categorical_accuracy: 0.7065 - val_loss: 1.5362 - val_accuracy: 0.4434 - val_sparse_top_k_categorical_accuracy: 0.8970\n",
      "Epoch 2/100\n",
      "73/73 [==============================] - 31s 427ms/step - loss: 1.5427 - accuracy: 0.4641 - sparse_top_k_categorical_accuracy: 0.8740 - val_loss: 1.2327 - val_accuracy: 0.5465 - val_sparse_top_k_categorical_accuracy: 0.9384\n",
      "Epoch 3/100\n",
      "73/73 [==============================] - 31s 424ms/step - loss: 1.2403 - accuracy: 0.5693 - sparse_top_k_categorical_accuracy: 0.9437 - val_loss: 1.1919 - val_accuracy: 0.5687 - val_sparse_top_k_categorical_accuracy: 0.9455\n",
      "Epoch 4/100\n",
      "73/73 [==============================] - 31s 426ms/step - loss: 0.9948 - accuracy: 0.6515 - sparse_top_k_categorical_accuracy: 0.9576 - val_loss: 0.9615 - val_accuracy: 0.6859 - val_sparse_top_k_categorical_accuracy: 0.9707\n",
      "Epoch 5/100\n",
      "73/73 [==============================] - 31s 426ms/step - loss: 0.7497 - accuracy: 0.7515 - sparse_top_k_categorical_accuracy: 0.9766 - val_loss: 0.7812 - val_accuracy: 0.7384 - val_sparse_top_k_categorical_accuracy: 0.9747\n",
      "Epoch 6/100\n",
      "73/73 [==============================] - 31s 428ms/step - loss: 0.5782 - accuracy: 0.8035 - sparse_top_k_categorical_accuracy: 0.9861 - val_loss: 0.6186 - val_accuracy: 0.7970 - val_sparse_top_k_categorical_accuracy: 0.9818\n",
      "Epoch 7/100\n",
      "73/73 [==============================] - 31s 427ms/step - loss: 0.4587 - accuracy: 0.8485 - sparse_top_k_categorical_accuracy: 0.9918 - val_loss: 0.5426 - val_accuracy: 0.8242 - val_sparse_top_k_categorical_accuracy: 0.9909\n",
      "Epoch 8/100\n",
      "73/73 [==============================] - 32s 433ms/step - loss: 0.3618 - accuracy: 0.8797 - sparse_top_k_categorical_accuracy: 0.9970 - val_loss: 0.4937 - val_accuracy: 0.8535 - val_sparse_top_k_categorical_accuracy: 0.9859\n",
      "Epoch 9/100\n",
      "73/73 [==============================] - 23s 311ms/step - loss: 0.2684 - accuracy: 0.9229 - sparse_top_k_categorical_accuracy: 0.9987 - val_loss: 0.5537 - val_accuracy: 0.8626 - val_sparse_top_k_categorical_accuracy: 0.9889\n",
      "Epoch 10/100\n",
      "73/73 [==============================] - 23s 308ms/step - loss: 0.1710 - accuracy: 0.9472 - sparse_top_k_categorical_accuracy: 0.9983 - val_loss: 0.6102 - val_accuracy: 0.8737 - val_sparse_top_k_categorical_accuracy: 0.9818\n",
      "Epoch 11/100\n",
      "73/73 [==============================] - 31s 420ms/step - loss: 0.1545 - accuracy: 0.9502 - sparse_top_k_categorical_accuracy: 0.9996 - val_loss: 0.3929 - val_accuracy: 0.8960 - val_sparse_top_k_categorical_accuracy: 0.9859\n",
      "Epoch 12/100\n",
      "73/73 [==============================] - 23s 310ms/step - loss: 0.1368 - accuracy: 0.9597 - sparse_top_k_categorical_accuracy: 1.0000 - val_loss: 0.4141 - val_accuracy: 0.9061 - val_sparse_top_k_categorical_accuracy: 0.9808\n",
      "Epoch 13/100\n",
      "73/73 [==============================] - 23s 312ms/step - loss: 0.0704 - accuracy: 0.9771 - sparse_top_k_categorical_accuracy: 1.0000 - val_loss: 0.4175 - val_accuracy: 0.8980 - val_sparse_top_k_categorical_accuracy: 0.9929\n",
      "Epoch 14/100\n",
      "73/73 [==============================] - 23s 308ms/step - loss: 0.1065 - accuracy: 0.9753 - sparse_top_k_categorical_accuracy: 0.9991 - val_loss: 0.4700 - val_accuracy: 0.9131 - val_sparse_top_k_categorical_accuracy: 0.9778\n",
      "Epoch 15/100\n",
      "73/73 [==============================] - 23s 306ms/step - loss: 0.0619 - accuracy: 0.9827 - sparse_top_k_categorical_accuracy: 1.0000 - val_loss: 0.4136 - val_accuracy: 0.9061 - val_sparse_top_k_categorical_accuracy: 0.9919\n",
      "Epoch 16/100\n",
      "73/73 [==============================] - 23s 308ms/step - loss: 0.0736 - accuracy: 0.9775 - sparse_top_k_categorical_accuracy: 0.9996 - val_loss: 0.5620 - val_accuracy: 0.9040 - val_sparse_top_k_categorical_accuracy: 0.9758\n"
     ]
    }
   ],
   "source": [
    "def run_lstm_experiment(train_data, test_data, n_labels):\n",
    "\n",
    "    \n",
    "    log_dir = \"../logs/lstm_\"+str(n_labels)+\"/fit/\" + datetime.datetime.now().strftime(\"%Y%m%d-%H%M%S\")\n",
    "    tensorboard_cb = tf.keras.callbacks.TensorBoard(log_dir=log_dir)\n",
    "\n",
    "    history = lstm_model.fit(\n",
    "        train_data,\n",
    "        validation_data=test_data,\n",
    "        epochs=100,\n",
    "        callbacks=[checkpoint_cb,early_stopping_cb,tensorboard_cb],\n",
    "    )\n",
    "    return history\n",
    "\n",
    "history_lstm=run_lstm_experiment(train_features,test_features,len(adl_labels))"
   ]
  },
  {
   "cell_type": "code",
   "execution_count": 69,
   "metadata": {},
   "outputs": [
    {
     "name": "stdout",
     "output_type": "stream",
     "text": [
      "31/31 [==============================] - 4s 111ms/step - loss: 0.3929 - accuracy: 0.8960 - sparse_top_k_categorical_accuracy: 0.9859\n",
      "Test accuracy: 89.6%\n",
      "Top 5 accuracy: 98.59%\n"
     ]
    }
   ],
   "source": [
    "lstm_model.load_weights(\"../checkpoint/adl_activity_LSTMmodel_11-0.39.hdf5\")\n",
    "metrics = lstm_model.evaluate(test_features)\n",
    "metrics_used = lstm_model.metrics_names\n",
    "print(f\"Test accuracy: {round(metrics[1]*100,2)}%\")\n",
    "print(f\"Top 5 accuracy: {round(metrics[2]*100,2)}%\")"
   ]
  },
  {
   "cell_type": "code",
   "execution_count": null,
   "metadata": {},
   "outputs": [],
   "source": [
    "y_true = np.concatenate([y for x, y in test_features], axis=0)\n",
    "x = np.concatenate([x for x, y in test_features], axis=0)\n",
    "#y_pred = lstm_model.predict(x,batch_size=1)\n",
    "y_Indexpred=np.zeros(shape=(1530))\n",
    "for i, pre in enumerate(y_pred):\n",
    "    y_Indexpred[i] = int(np.argmax(pre))\n",
    "\n",
    "print(classification_report(y_true,y_Indexpred,target_names=labels))"
   ]
  },
  {
   "cell_type": "markdown",
   "metadata": {},
   "source": [
    "Extract frames and save them as JPEG to create the image Dataset."
   ]
  },
  {
   "cell_type": "code",
   "execution_count": null,
   "metadata": {},
   "outputs": [],
   "source": [
    "def save_frames(videos,path,label_of_batch):\n",
    "    print(\"Writing images for \"+label_of_batch+\"...\")\n",
    "    for i,video in enumerate(videos):\n",
    "        for j,frame in enumerate(video):\n",
    "            cv.imwrite(path+f\"/video{i+1}_frame{j+1}.jpg\",cv.cvtColor(frame,cv.COLOR_RGB2BGR))\n",
    "\n",
    "\n",
    "def create_image_dataset(split_data,n_labels,split_number,split_type):\n",
    "\n",
    "    \n",
    "    image_dtst_directory='../img_dataset/'\n",
    "    n_of_videos_per_class=int(len(split_data)/n_labels)\n",
    "\n",
    "    i=0\n",
    "    for batch in range(n_labels):\n",
    "\n",
    "        data=[]\n",
    "        current_batch=split_data[i:i+n_of_videos_per_class]\n",
    "        label_of_batch=current_batch[0][1]\n",
    "    \n",
    "        for name_and_label in current_batch:\n",
    "            np_video=load_video('../hmdb51_org/'+name_and_label[1]+'/'+name_and_label[0],frames_per_video,frame_separation)\n",
    "            data.append(np_video)\n",
    "        \n",
    "        path=image_dtst_directory+split_type+'/'+'split'+str(split_number)+'/'+label_of_batch\n",
    "        if not os.path.exists(path):\n",
    "            os.makedirs(path)\n",
    "        save_frames(data,path,label_of_batch)\n",
    "        i=i+n_of_videos_per_class\n",
    "\n",
    "#create_image_dataset(train_split1,1,'train')\n",
    "#create_image_dataset(test_split1,1,'test')\n",
    "create_image_dataset(train_split1_adl,11,1,'train_adl')\n",
    "create_image_dataset(test_split1_adl,11,1,'test_adl')"
   ]
  },
  {
   "cell_type": "code",
   "execution_count": 72,
   "metadata": {},
   "outputs": [
    {
     "name": "stdout",
     "output_type": "stream",
     "text": [
      "Found 7700 files belonging to 11 classes.\n",
      "Found 3300 files belonging to 11 classes.\n"
     ]
    }
   ],
   "source": [
    "\n",
    "train_img = tf.keras.utils.image_dataset_from_directory(\"../img_dataset/train_adl/split1/\",image_size=(240,240),shuffle=True)\n",
    "test_img = tf.keras.utils.image_dataset_from_directory(\"../img_dataset/test_adl/split1/\",image_size=(240,240), shuffle=True)"
   ]
  },
  {
   "cell_type": "markdown",
   "metadata": {},
   "source": [
    "CNN (Single Frame)"
   ]
  },
  {
   "cell_type": "code",
   "execution_count": 74,
   "metadata": {},
   "outputs": [],
   "source": [
    "def new_cnn_model(n_labels,unfreeze_top_2=False):\n",
    "\n",
    "    pretrained_model = tf.keras.applications.Xception(\n",
    "        include_top=False,\n",
    "        weights='imagenet',\n",
    "        input_shape=(frame_size,frame_size,3),\n",
    "        classifier_activation='softmax'\n",
    "    )\n",
    "    \n",
    "    pretrained_model.trainable=False\n",
    "\n",
    "    if(unfreeze_top_2):\n",
    "        for layer in pretrained_model.layers[126:]:\n",
    "            layer.trainable = True\n",
    "\n",
    "    data_augmentation = tf.keras.Sequential(\n",
    "        [tf.keras.layers.RandomFlip(\"horizontal\"), tf.keras.layers.RandomRotation(0.1),],\n",
    "        name = 'augmentation'\n",
    "    )\n",
    "    normalization = tf.keras.layers.Rescaling(scale=1/127.5, offset=-1, name='normalization')\n",
    "    inputs = tf.keras.Input(shape=(frame_size,frame_size,3), name='input')\n",
    "\n",
    "    preprocess = data_augmentation(inputs)\n",
    "    preprocess = normalization(preprocess)\n",
    "\n",
    "    x = pretrained_model(preprocess,training=False)\n",
    "    x = tf.keras.layers.GlobalAveragePooling2D(name='global_average_pooling')(x)\n",
    "    #x = tf.keras.layers.Dropout(.5,name='dropout')(x)\n",
    "\n",
    "    x = tf.keras.layers.Dense(2048, activation='relu', name='dense')(x)\n",
    "\n",
    "    x = tf.keras.layers.Dropout(.5,name='dropout')(x)\n",
    "\n",
    "    outputs = tf.keras.layers.Dense(n_labels,activation='softmax',name='dense_softmax')(x)\n",
    "    cnn_model = tf.keras.Model(inputs,outputs)\n",
    "\n",
    "    cnn_model.compile(\n",
    "        loss='sparse_categorical_crossentropy', optimizer='adam', metrics=['accuracy',tf.keras.metrics.SparseTopKCategoricalAccuracy(k=5)]\n",
    "    )\n",
    "\n",
    "    return cnn_model"
   ]
  },
  {
   "cell_type": "code",
   "execution_count": 81,
   "metadata": {},
   "outputs": [
    {
     "name": "stdout",
     "output_type": "stream",
     "text": [
      "Model: \"model_7\"\n",
      "_________________________________________________________________\n",
      " Layer (type)                Output Shape              Param #   \n",
      "=================================================================\n",
      " input (InputLayer)          [(None, 240, 240, 3)]     0         \n",
      "                                                                 \n",
      " augmentation (Sequential)   (None, 240, 240, 3)       0         \n",
      "                                                                 \n",
      " normalization (Rescaling)   (None, 240, 240, 3)       0         \n",
      "                                                                 \n",
      " xception (Functional)       (None, 8, 8, 2048)        20861480  \n",
      "                                                                 \n",
      " global_average_pooling (Glo  (None, 2048)             0         \n",
      " balAveragePooling2D)                                            \n",
      "                                                                 \n",
      " dense (Dense)               (None, 2048)              4196352   \n",
      "                                                                 \n",
      " dropout (Dropout)           (None, 2048)              0         \n",
      "                                                                 \n",
      " dense_softmax (Dense)       (None, 51)                104499    \n",
      "                                                                 \n",
      "=================================================================\n",
      "Total params: 25,162,331\n",
      "Trainable params: 4,300,851\n",
      "Non-trainable params: 20,861,480\n",
      "_________________________________________________________________\n"
     ]
    }
   ],
   "source": [
    "cnn_model=new_cnn_model(len(labels),unfreeze_top_2=True)\n",
    "cnn_model.summary()"
   ]
  },
  {
   "cell_type": "code",
   "execution_count": 12,
   "metadata": {},
   "outputs": [
    {
     "data": {
      "image/png": "[encoded data removed]",
      "text/plain": [
       "<IPython.core.display.Image object>"
      ]
     },
     "execution_count": 12,
     "metadata": {},
     "output_type": "execute_result"
    }
   ],
   "source": [
    "tf.keras.utils.plot_model(cnn_model, \"cnn_modelo_tfg.png\", show_shapes=True)"
   ]
  },
  {
   "cell_type": "code",
   "execution_count": 82,
   "metadata": {},
   "outputs": [],
   "source": [
    "checkpoint_cb = checkpoint_cb = tf.keras.callbacks.ModelCheckpoint(\n",
    "    \"../checkpoint/adl_activity_CNNmodel_{epoch:02d}-{val_loss:.2f}.hdf5\", save_best_only=True,\n",
    ")"
   ]
  },
  {
   "cell_type": "code",
   "execution_count": 83,
   "metadata": {},
   "outputs": [
    {
     "name": "stdout",
     "output_type": "stream",
     "text": [
      "Epoch 1/100\n",
      "241/241 [==============================] - 144s 573ms/step - loss: 1.3193 - accuracy: 0.5666 - sparse_top_k_categorical_accuracy: 0.9021 - val_loss: 1.9265 - val_accuracy: 0.4061 - val_sparse_top_k_categorical_accuracy: 0.8309\n",
      "Epoch 2/100\n",
      "241/241 [==============================] - 131s 544ms/step - loss: 0.6975 - accuracy: 0.7700 - sparse_top_k_categorical_accuracy: 0.9825 - val_loss: 2.2418 - val_accuracy: 0.3812 - val_sparse_top_k_categorical_accuracy: 0.8182\n",
      "Epoch 3/100\n",
      "241/241 [==============================] - 131s 544ms/step - loss: 0.4498 - accuracy: 0.8505 - sparse_top_k_categorical_accuracy: 0.9926 - val_loss: 2.5161 - val_accuracy: 0.3639 - val_sparse_top_k_categorical_accuracy: 0.8112\n",
      "Epoch 4/100\n",
      "241/241 [==============================] - 131s 544ms/step - loss: 0.3111 - accuracy: 0.9016 - sparse_top_k_categorical_accuracy: 0.9960 - val_loss: 2.7226 - val_accuracy: 0.3648 - val_sparse_top_k_categorical_accuracy: 0.8142\n",
      "Epoch 5/100\n",
      "241/241 [==============================] - 131s 544ms/step - loss: 0.2407 - accuracy: 0.9242 - sparse_top_k_categorical_accuracy: 0.9990 - val_loss: 2.8607 - val_accuracy: 0.3594 - val_sparse_top_k_categorical_accuracy: 0.8085\n",
      "Epoch 6/100\n",
      "241/241 [==============================] - 131s 546ms/step - loss: 0.1986 - accuracy: 0.9368 - sparse_top_k_categorical_accuracy: 0.9988 - val_loss: 2.8068 - val_accuracy: 0.3842 - val_sparse_top_k_categorical_accuracy: 0.8127\n"
     ]
    },
    {
     "data": {
      "image/png": "[encoded data removed]",
      "text/plain": [
       "<Figure size 432x288 with 1 Axes>"
      ]
     },
     "metadata": {
      "needs_background": "light"
     },
     "output_type": "display_data"
    }
   ],
   "source": [
    "def run_cnn_experiment(train_data,test_data,n_labels):\n",
    "    log_dir = \"../logs/cnn_\"+str(n_labels)+\"/fit/\" + datetime.datetime.now().strftime(\"%Y%m%d-%H%M%S\")\n",
    "    tensorboard_cb = tf.keras.callbacks.TensorBoard(log_dir=log_dir)\n",
    "\n",
    "    history = cnn_model.fit(\n",
    "        train_data,\n",
    "        validation_data=test_data,\n",
    "        epochs=100,\n",
    "        \n",
    "        callbacks=[checkpoint_cb,early_stopping_cb,tensorboard_cb],\n",
    "    )\n",
    "\n",
    "    history_df = pd.DataFrame(history.history)\n",
    "    history_df.loc[:,['loss','val_loss']].plot()\n",
    "    return history\n",
    "history_cnn=run_cnn_experiment(train_img,test_img,len(adl_labels))"
   ]
  },
  {
   "cell_type": "code",
   "execution_count": null,
   "metadata": {},
   "outputs": [],
   "source": [
    "# cnn_model.load_weights(\"../checkpoint/51activity_CNNmodel_01-2.55.hdf5\")\n",
    "# metrics = cnn_model.evaluate(test_img)\n",
    "# metrics_used = cnn_model.metrics_names\n",
    "# print(f\"Test accuracy: {round(metrics[1]*100,2)}%\")\n",
    "# print(f\"Top 5 accuracy: {round(metrics[2]*100,2)}%\")"
   ]
  },
  {
   "cell_type": "code",
   "execution_count": 85,
   "metadata": {},
   "outputs": [],
   "source": [
    "\n",
    "def get_graphics(experimentID):\n",
    "    experiment = tb.data.experimental.ExperimentFromDev(experimentID)\n",
    "    \n",
    "    df = experiment.get_scalars()\n",
    "    #print(df)\n",
    "    df2 = df[df.tag.str.contains(\"iterations\")==False]\n",
    "    df2 = df2.pivot(index=[\"run\",\"step\"],columns=['tag'],values=\"value\")\n",
    "    df_val=df2[df2.index.get_level_values(0).str.contains(\"validation\")]\n",
    "    df_train=df2[df2.index.get_level_values(0).str.contains(\"train\")]\n",
    "    fig,ax=plt.subplots()\n",
    "\n",
    "    df_val.loc[:,['epoch_accuracy','epoch_sparse_top_k_categorical_accuracy']].plot(use_index=False, ax=ax,xlabel='epochs',ylim=(0,1))\n",
    "    ax.legend(['Top1_accuracy','Top5_accuracy'])\n",
    "\n",
    "    ax=df_train.loc[:,['epoch_loss']].plot(use_index=False,xlabel='epoch')\n",
    "    df_val.loc[:,['epoch_loss']].plot(ax=ax,use_index=False)\n",
    "    ax.legend(['loss','val_loss'])\n",
    "\n",
    "    \n"
   ]
  },
  {
   "cell_type": "markdown",
   "metadata": {},
   "source": [
    "Graphics for CNN 51 classes"
   ]
  },
  {
   "cell_type": "code",
   "execution_count": 71,
   "metadata": {},
   "outputs": [
    {
     "data": {
      "image/png": "[encoded data removed]",
      "text/plain": [
       "<Figure size 432x288 with 1 Axes>"
      ]
     },
     "metadata": {
      "needs_background": "light"
     },
     "output_type": "display_data"
    },
    {
     "data": {
      "image/png": "[encoded data removed]",
      "text/plain": [
       "<Figure size 432x288 with 1 Axes>"
      ]
     },
     "metadata": {
      "needs_background": "light"
     },
     "output_type": "display_data"
    }
   ],
   "source": [
    "get_graphics('fnRkS1jzQeSnxy0C3jawsA')"
   ]
  },
  {
   "cell_type": "markdown",
   "metadata": {},
   "source": [
    "Graphics for CNN 11 classes"
   ]
  },
  {
   "cell_type": "code",
   "execution_count": 86,
   "metadata": {},
   "outputs": [
    {
     "data": {
      "image/png": "[encoded data removed]",
      "text/plain": [
       "<Figure size 432x288 with 1 Axes>"
      ]
     },
     "metadata": {
      "needs_background": "light"
     },
     "output_type": "display_data"
    },
    {
     "data": {
      "image/png": "[encoded data removed]",
      "text/plain": [
       "<Figure size 432x288 with 1 Axes>"
      ]
     },
     "metadata": {
      "needs_background": "light"
     },
     "output_type": "display_data"
    }
   ],
   "source": [
    "get_graphics(\"t9h4RejaSoCqAPn81szmqQ\")"
   ]
  },
  {
   "cell_type": "markdown",
   "metadata": {},
   "source": [
    "Graphics for LSTM 51 classes"
   ]
  },
  {
   "cell_type": "code",
   "execution_count": 69,
   "metadata": {},
   "outputs": [
    {
     "data": {
      "image/png": "[encoded data removed]",
      "text/plain": [
       "<Figure size 432x288 with 1 Axes>"
      ]
     },
     "metadata": {
      "needs_background": "light"
     },
     "output_type": "display_data"
    },
    {
     "data": {
      "image/png": "[encoded data removed]",
      "text/plain": [
       "<Figure size 432x288 with 1 Axes>"
      ]
     },
     "metadata": {
      "needs_background": "light"
     },
     "output_type": "display_data"
    }
   ],
   "source": [
    "get_graphics(\"SBDpMaikRWOs0FX8l6ASdg\")"
   ]
  },
  {
   "cell_type": "markdown",
   "metadata": {},
   "source": [
    "Graphics for LSTM 11 classes"
   ]
  },
  {
   "cell_type": "code",
   "execution_count": 68,
   "metadata": {},
   "outputs": [
    {
     "data": {
      "image/png": "[encoded data removed]",
      "text/plain": [
       "<Figure size 432x288 with 1 Axes>"
      ]
     },
     "metadata": {
      "needs_background": "light"
     },
     "output_type": "display_data"
    },
    {
     "data": {
      "image/png": "[encoded data removed]",
      "text/plain": [
       "<Figure size 432x288 with 1 Axes>"
      ]
     },
     "metadata": {
      "needs_background": "light"
     },
     "output_type": "display_data"
    }
   ],
   "source": [
    "get_graphics(\"VHPmTj3qQzSMrjryxpOnBA\")"
   ]
  }
 ],
 "metadata": {
  "interpreter": {
   "hash": "c78d55e21af3ee4296a87005aeb6b48cf035a833a78fc402b9be469aebeb0d7d"
  },
  "kernelspec": {
   "display_name": "Python 3.8.13 ('TFG')",
   "language": "python",
   "name": "python3"
  },
  "language_info": {
   "codemirror_mode": {
    "name": "ipython",
    "version": 3
   },
   "file_extension": ".py",
   "mimetype": "text/x-python",
   "name": "python",
   "nbconvert_exporter": "python",
   "pygments_lexer": "ipython3",
   "version": "3.8.13"
  },
  "orig_nbformat": 4
 },
 "nbformat": 4,
 "nbformat_minor": 2
}
