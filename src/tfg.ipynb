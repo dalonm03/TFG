{
 "cells": [
  {
   "cell_type": "code",
   "execution_count": 1,
   "metadata": {},
   "outputs": [
    {
     "name": "stdout",
     "output_type": "stream",
     "text": [
      "tf: 2.3.0\n",
      "cv: 4.0.1\n"
     ]
    }
   ],
   "source": [
    "import tensorflow as tf\n",
    "import cv2 as cv\n",
    "import numpy as np\n",
    "import imageio\n",
    "import re\n",
    "import video2tfrecord as vid2tf\n",
    "\n",
    "print('tf: '+tf.__version__)\n",
    "print('cv: '+cv.__version__)"
   ]
  },
  {
   "cell_type": "markdown",
   "metadata": {},
   "source": [
    "FUNCTIONS TO MANIPULATE AND PLAY VIDEOS"
   ]
  },
  {
   "cell_type": "code",
   "execution_count": 2,
   "metadata": {},
   "outputs": [],
   "source": [
    "#Function that plays the videos within a directory\n",
    "def play_videos(directory):\n",
    "    \n",
    "    for video_name in os.listdir(directory):\n",
    "    # try:\n",
    "            cap=cv.VideoCapture(directory+video_name)\n",
    "            while cap.isOpened():\n",
    "                ret, frame=cap.read()\n",
    "                if not ret:\n",
    "                    print(\"Can't receive frame (stream end?). Exiting...\")\n",
    "                    break\n",
    "                cv.imshow('frame',frame)\n",
    "                if cv.waitKey(1)==ord('q'):\n",
    "                    break\n",
    "\n",
    "            cap.release()\n",
    "            cv.destroyAllWindows()\n",
    "#play_videos('../hmdb51_org/fall_floor/')"
   ]
  },
  {
   "cell_type": "markdown",
   "metadata": {},
   "source": [
    "Define hyperparameters"
   ]
  },
  {
   "cell_type": "code",
   "execution_count": 3,
   "metadata": {},
   "outputs": [],
   "source": [
    "epochs=10\n",
    "frame_size=240\n",
    "batch_size=64\n",
    "frames_per_video=10"
   ]
  },
  {
   "cell_type": "code",
   "execution_count": 4,
   "metadata": {},
   "outputs": [],
   "source": [
    "#Function that crops the frames\n",
    "def crop_center_square(frame):\n",
    "  y, x = frame.shape[0:2]\n",
    "  min_dim = min(y, x)\n",
    "  start_x = (x // 2) - (min_dim // 2)\n",
    "  start_y = (y // 2) - (min_dim // 2)\n",
    "  return frame[start_y:start_y+min_dim,start_x:start_x+min_dim]\n",
    "\n",
    "#Function that loads video\n",
    "def load_video(path, max_frames=0, resize=(frame_size, frame_size)):\n",
    "  cap = cv.VideoCapture(path)\n",
    "  frames = []\n",
    "  try:\n",
    "    while True:\n",
    "      ret, frame = cap.read()\n",
    "      if not ret:\n",
    "        break\n",
    "      frame = crop_center_square(frame)\n",
    "      frame = cv.resize(frame, resize)\n",
    "      frame = frame[:, :, [2, 1, 0]]\n",
    "      frames.append(frame)\n",
    "\n",
    "      if len(frames) == max_frames:\n",
    "        break\n",
    "  finally:\n",
    "    cap.release()\n",
    "  return np.array(frames)\n",
    "\n",
    "#Makes a gif out of frames\n",
    "def to_gif(images):\n",
    "  converted_images = np.clip(images, 0, 255).astype(np.uint8)\n",
    "  imageio.mimsave('./animation.gif', converted_images, fps=25)\n",
    "\n",
    "#sample_video = load_video('../hmdb51_org/fall_floor/Catch_Me_If_You_Can_fall_floor_f_cm_np1_fr_med_0.avi')[:100]\n",
    "#to_gif(sample_video)"
   ]
  },
  {
   "cell_type": "markdown",
   "metadata": {},
   "source": [
    "We get the labels of the HMDB51 dataset"
   ]
  },
  {
   "cell_type": "code",
   "execution_count": 5,
   "metadata": {},
   "outputs": [],
   "source": [
    "labels = os.listdir('../hmdb51_org')"
   ]
  },
  {
   "cell_type": "markdown",
   "metadata": {},
   "source": [
    "Function for getting the name and lable of the different train and test split videos."
   ]
  },
  {
   "cell_type": "code",
   "execution_count": 6,
   "metadata": {},
   "outputs": [
    {
     "name": "stdout",
     "output_type": "stream",
     "text": [
      "\n"
     ]
    }
   ],
   "source": [
    "def get_split(split_number):\n",
    "    splits_files= os.listdir('../test_train_splits')\n",
    "    train_split=[]\n",
    "    test_split=[]\n",
    "    r = re.compile(str(split_number)+'\\.txt$')\n",
    "    split_files=list(filter(r.search,splits_files))\n",
    "\n",
    "    for file in split_files:\n",
    "        \n",
    "        f=open('../test_train_splits/'+file,'r')\n",
    "        for line in f:\n",
    "            if(re.search('1 $',line)):\n",
    "                train_split.append((line.split(' ',1)[0],file.split('_test',1)[0]))\n",
    "            elif(re.search('2 $',line)):\n",
    "                test_split.append((line.split(' ',1)[0],file.split('_test',1)[0]))\n",
    "\n",
    "        f.close()\n",
    "    return (train_split,test_split)\n",
    "train_split1,test_split1=get_split(1)\n",
    "print()"
   ]
  },
  {
   "cell_type": "markdown",
   "metadata": {},
   "source": [
    "Instantiate the Xception architecture and freeze the model"
   ]
  },
  {
   "cell_type": "code",
   "execution_count": 7,
   "metadata": {},
   "outputs": [],
   "source": [
    "pretrained_model = tf.keras.applications.Xception(\n",
    "    include_top=False,\n",
    "    weights='imagenet',\n",
    "    input_shape=(frame_size,frame_size,3),\n",
    "    classifier_activation='softmax'\n",
    ")\n",
    "\n",
    "pretrained_model.trainable=False"
   ]
  },
  {
   "cell_type": "markdown",
   "metadata": {},
   "source": [
    "We create the model that is going to sit on top of the pretrained model"
   ]
  },
  {
   "cell_type": "code",
   "execution_count": 8,
   "metadata": {},
   "outputs": [],
   "source": [
    "inputs = tf.keras.Input(shape=(frame_size,frame_size,3))\n",
    "\n",
    "x = pretrained_model(inputs,training=False)\n",
    "x = tf.keras.layers.GlobalAveragePooling2D()(x)\n",
    "\n",
    "outputs = tf.keras.layers.Dense(len(labels),activation='softmax')(x)\n",
    "model = tf.keras.Model(inputs,outputs)"
   ]
  },
  {
   "cell_type": "code",
   "execution_count": 9,
   "metadata": {},
   "outputs": [
    {
     "data": {
      "image/png": "[encoded data removed]",
      "text/plain": [
       "<IPython.core.display.Image object>"
      ]
     },
     "execution_count": 9,
     "metadata": {},
     "output_type": "execute_result"
    }
   ],
   "source": [
    "tf.keras.utils.plot_model(model, \"modelo_tfg.png\", show_shapes=True)"
   ]
  },
  {
   "cell_type": "markdown",
   "metadata": {},
   "source": [
    "Function that converts the videos from a split into TFRecords"
   ]
  },
  {
   "cell_type": "code",
   "execution_count": null,
   "metadata": {},
   "outputs": [],
   "source": [
    "\n",
    "def split_to_tfrecords(split_data,split_number,n_videos_in_record):\n",
    "    \n",
    "    n_of_records=int(len(split_data)/n_videos_in_record)\n",
    "    hmdb51_directory='../hmdb51_org/'\n",
    "\n",
    "    i=0\n",
    "    for batch in range(n_of_records):\n",
    "\n",
    "        data=[]\n",
    "        current_batch=split_data[i:i+n_videos_in_record]\n",
    "        label_of_batch=current_batch[0][1]\n",
    "    \n",
    "        for name_and_label in current_batch:\n",
    "            np_video=load_video(hmdb51_directory+name_and_label[1]+'/'+name_and_label[0],frames_per_video)\n",
    "            data.append(np_video)\n",
    "        \n",
    "        path='../tfRecords/split'+str(split_number)+'/'+label_of_batch\n",
    "        if not os.path.exists(path):\n",
    "            os.makedirs(path)\n",
    "            \n",
    "        vid2tf.video2tfrecord.save_numpy_to_tfrecords(np.array(data), path, 'trainBatch_', n_videos_in_record,batch+1, total_batch_number=n_of_records, color_depth=\"uint8\")\n",
    "        i=i+n_videos_in_record\n",
    "\n",
    "split_to_tfrecords(train_split1,1,70)"
   ]
  },
  {
   "cell_type": "code",
   "execution_count": null,
   "metadata": {},
   "outputs": [],
   "source": [
    "import IPython.display as display\n",
    "filename=['../tfRecords/split1/brush_hair/trainBatch_1_of_51.tfrecords']\n",
    "raw_tfrecord=tf.data.TFRecordDataset(filename)\n",
    "\n",
    "video_feature_description = {\n",
    "    'blob/0' : tf.io.FixedLenFeature([],tf.string),\n",
    "    'height': tf.io.FixedLenFeature([], tf.int64),\n",
    "    'width': tf.io.FixedLenFeature([], tf.int64),\n",
    "    'depth': tf.io.FixedLenFeature([], tf.int64),\n",
    "}\n",
    "\n",
    "def _parse_video_function(example_proto):\n",
    "    return tf.io.parse_single_example(example_proto,video_feature_description)\n",
    "\n",
    "parsed_video_record = raw_tfrecord.map(_parse_video_function)\n",
    "\n",
    "i=0\n",
    "for video_features in parsed_video_record.take(1):\n",
    "\n",
    "    image_raw=video_features['blob/0']\n",
    "    height=video_features['height']\n",
    "    width=video_features['width']\n",
    "    depth=video_features['depth']\n",
    "\n",
    "    image=tf.io.decode_raw(image_raw,out_type=tf.uint8)\n",
    "    image = tf.reshape(image, tf.stack([height, width, depth]))\n",
    "    \n",
    "    \n",
    "    display.display(display.Image(data=image))\n",
    "\n",
    "    \n",
    "    i=i+1\n",
    "\n",
    "print(i) "
   ]
  }
 ],
 "metadata": {
  "interpreter": {
   "hash": "52d86f036cf349489a6d83082864c77bf0ad9b0b355d4c77898c024ca2886e2a"
  },
  "kernelspec": {
   "display_name": "Python 3.9.7 64-bit",
   "language": "python",
   "name": "python3"
  },
  "language_info": {
   "codemirror_mode": {
    "name": "ipython",
    "version": 3
   },
   "file_extension": ".py",
   "mimetype": "text/x-python",
   "name": "python",
   "nbconvert_exporter": "python",
   "pygments_lexer": "ipython3",
   "version": "3.8.12"
  },
  "orig_nbformat": 4
 },
 "nbformat": 4,
 "nbformat_minor": 2
}
