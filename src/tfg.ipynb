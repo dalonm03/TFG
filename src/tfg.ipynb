{
 "cells": [
  {
   "cell_type": "code",
   "execution_count": 2,
   "metadata": {},
   "outputs": [
    {
     "name": "stdout",
     "output_type": "stream",
     "text": [
      "tf: 2.6.1\n",
      "cv: 4.5.4\n"
     ]
    }
   ],
   "source": [
    "import tensorflow as tf\n",
    "import cv2 as cv\n",
    "\n",
    "print('tf: '+tf.__version__)\n",
    "print('cv: '+cv.__version__)"
   ]
  },
  {
   "cell_type": "code",
   "execution_count": 4,
   "metadata": {},
   "outputs": [
    {
     "name": "stdout",
     "output_type": "stream",
     "text": [
      "Can't receive frame (stream end?). Exiting...\n"
     ]
    }
   ],
   "source": [
    "cap = cv.VideoCapture('../hmdb51_org/fall_floor/50_FIRST_DATES_fall_floor_f_cm_np1_fr_med_14.avi')\n",
    "while cap.isOpened():\n",
    "    ret, frame=cap.read()\n",
    "    if not ret:\n",
    "        print(\"Can't receive frame (stream end?). Exiting...\")\n",
    "        break\n",
    "    cv.imshow('frame',frame)\n",
    "    if cv.waitKey(100)==ord('q'):\n",
    "        break\n",
    "\n",
    "cap.release()\n",
    "cv.destroyAllWindows()"
   ]
  },
  {
   "cell_type": "code",
   "execution_count": 13,
   "metadata": {},
   "outputs": [
    {
     "name": "stdout",
     "output_type": "stream",
     "text": [
      "Can't receive frame (stream end?). Exiting...\n",
      "Can't receive frame (stream end?). Exiting...\n",
      "Can't receive frame (stream end?). Exiting...\n",
      "Can't receive frame (stream end?). Exiting...\n",
      "Can't receive frame (stream end?). Exiting...\n",
      "Can't receive frame (stream end?). Exiting...\n",
      "Can't receive frame (stream end?). Exiting...\n",
      "Can't receive frame (stream end?). Exiting...\n",
      "Can't receive frame (stream end?). Exiting...\n",
      "Can't receive frame (stream end?). Exiting...\n",
      "Can't receive frame (stream end?). Exiting...\n",
      "Can't receive frame (stream end?). Exiting...\n",
      "Can't receive frame (stream end?). Exiting...\n",
      "Can't receive frame (stream end?). Exiting...\n",
      "Can't receive frame (stream end?). Exiting...\n",
      "Can't receive frame (stream end?). Exiting...\n",
      "Can't receive frame (stream end?). Exiting...\n",
      "Can't receive frame (stream end?). Exiting...\n",
      "Can't receive frame (stream end?). Exiting...\n",
      "Can't receive frame (stream end?). Exiting...\n",
      "Can't receive frame (stream end?). Exiting...\n",
      "Can't receive frame (stream end?). Exiting...\n",
      "Can't receive frame (stream end?). Exiting...\n",
      "Can't receive frame (stream end?). Exiting...\n",
      "Can't receive frame (stream end?). Exiting...\n",
      "Can't receive frame (stream end?). Exiting...\n",
      "Can't receive frame (stream end?). Exiting...\n",
      "Can't receive frame (stream end?). Exiting...\n",
      "Can't receive frame (stream end?). Exiting...\n",
      "Can't receive frame (stream end?). Exiting...\n",
      "Can't receive frame (stream end?). Exiting...\n",
      "Can't receive frame (stream end?). Exiting...\n",
      "Can't receive frame (stream end?). Exiting...\n",
      "Can't receive frame (stream end?). Exiting...\n",
      "Can't receive frame (stream end?). Exiting...\n",
      "Can't receive frame (stream end?). Exiting...\n",
      "Can't receive frame (stream end?). Exiting...\n",
      "Can't receive frame (stream end?). Exiting...\n",
      "Can't receive frame (stream end?). Exiting...\n",
      "Can't receive frame (stream end?). Exiting...\n"
     ]
    },
    {
     "ename": "KeyboardInterrupt",
     "evalue": "",
     "output_type": "error",
     "traceback": [
      "\u001b[1;31m---------------------------------------------------------------------------\u001b[0m",
      "\u001b[1;31mKeyboardInterrupt\u001b[0m                         Traceback (most recent call last)",
      "\u001b[1;32m~\\AppData\\Local\\Temp/ipykernel_4648/3219758990.py\u001b[0m in \u001b[0;36m<module>\u001b[1;34m\u001b[0m\n\u001b[0;32m     11\u001b[0m                 \u001b[1;32mbreak\u001b[0m\u001b[1;33m\u001b[0m\u001b[1;33m\u001b[0m\u001b[0m\n\u001b[0;32m     12\u001b[0m             \u001b[0mcv\u001b[0m\u001b[1;33m.\u001b[0m\u001b[0mimshow\u001b[0m\u001b[1;33m(\u001b[0m\u001b[1;34m'frame'\u001b[0m\u001b[1;33m,\u001b[0m\u001b[0mframe\u001b[0m\u001b[1;33m)\u001b[0m\u001b[1;33m\u001b[0m\u001b[1;33m\u001b[0m\u001b[0m\n\u001b[1;32m---> 13\u001b[1;33m             \u001b[1;32mif\u001b[0m \u001b[0mcv\u001b[0m\u001b[1;33m.\u001b[0m\u001b[0mwaitKey\u001b[0m\u001b[1;33m(\u001b[0m\u001b[1;36m1\u001b[0m\u001b[1;33m)\u001b[0m\u001b[1;33m==\u001b[0m\u001b[0mord\u001b[0m\u001b[1;33m(\u001b[0m\u001b[1;34m'q'\u001b[0m\u001b[1;33m)\u001b[0m\u001b[1;33m:\u001b[0m\u001b[1;33m\u001b[0m\u001b[1;33m\u001b[0m\u001b[0m\n\u001b[0m\u001b[0;32m     14\u001b[0m                 \u001b[1;32mbreak\u001b[0m\u001b[1;33m\u001b[0m\u001b[1;33m\u001b[0m\u001b[0m\n\u001b[0;32m     15\u001b[0m \u001b[1;33m\u001b[0m\u001b[0m\n",
      "\u001b[1;31mKeyboardInterrupt\u001b[0m: "
     ]
    }
   ],
   "source": [
    "import cv2 as cv\n",
    "actions = os.listdir('../hmdb51_org')\n",
    "\n",
    "for video_name in os.listdir('../hmdb51_org/fall_floor'):\n",
    "   # try:\n",
    "        cap=cv.VideoCapture('../hmdb51_org/fall_floor/'+video_name)\n",
    "        while cap.isOpened():\n",
    "            ret, frame=cap.read()\n",
    "            if not ret:\n",
    "                print(\"Can't receive frame (stream end?). Exiting...\")\n",
    "                break\n",
    "            cv.imshow('frame',frame)\n",
    "            if cv.waitKey(1)==ord('q'):\n",
    "                break\n",
    "\n",
    "        cap.release()\n",
    "        cv.destroyAllWindows()\n",
    "  #  except Exception as e:\n",
    "   #     print(f'Failed on {video_name}')"
   ]
  }
 ],
 "metadata": {
  "interpreter": {
   "hash": "52d86f036cf349489a6d83082864c77bf0ad9b0b355d4c77898c024ca2886e2a"
  },
  "kernelspec": {
   "display_name": "Python 3.9.7 64-bit",
   "language": "python",
   "name": "python3"
  },
  "language_info": {
   "codemirror_mode": {
    "name": "ipython",
    "version": 3
   },
   "file_extension": ".py",
   "mimetype": "text/x-python",
   "name": "python",
   "nbconvert_exporter": "python",
   "pygments_lexer": "ipython3",
   "version": "3.9.7"
  },
  "orig_nbformat": 4
 },
 "nbformat": 4,
 "nbformat_minor": 2
}
